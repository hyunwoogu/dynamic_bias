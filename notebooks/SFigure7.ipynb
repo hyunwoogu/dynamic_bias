{
 "cells": [
  {
   "attachments": {},
   "cell_type": "markdown",
   "metadata": {},
   "source": [
    "# Reduced DDM prediction of BOLD dynamics\n",
    "\n",
    "DDM-based predictions of the visual cortex BOLD dynamics. Mostly same with Figs.6d-f."
   ]
  },
  {
   "cell_type": "code",
   "execution_count": 1,
   "metadata": {},
   "outputs": [],
   "source": [
    "import os\n",
    "import sys\n",
    "import pickle\n",
    "import numpy as np\n",
    "import matplotlib.pyplot as plt\n",
    "from sklearn.linear_model import LinearRegression\n",
    "\n",
    "sys.path.append('..')\n",
    "from src import utils\n",
    "utils.setup_matplotlib()"
   ]
  },
  {
   "cell_type": "code",
   "execution_count": 2,
   "metadata": {},
   "outputs": [
    {
     "name": "stdout",
     "output_type": "stream",
     "text": [
      "downloading data/outputs/behavior...\n",
      "data/outputs/behavior already exists. Skipping download...\n",
      "downloading data/outputs/ddm...\n",
      "data/outputs/ddm already exists. Skipping download...\n"
     ]
    }
   ],
   "source": [
    "utils.download_dataset(\"data/outputs/behavior\")\n",
    "utils.download_dataset(\"data/outputs/ddm\")\n",
    "\n",
    "with open('../data/outputs/behavior/results_stimulus_specific_bias.pickle', 'rb') as f:\n",
    "    ssb = pickle.load(f)\n",
    "    \n",
    "with open('../data/outputs/ddm/bootstrap_ddm_stimulus_conditioned.pickle', 'rb') as f:\n",
    "    stim_cond = pickle.load(f)\n",
    "    \n",
    "with open('../data/outputs/ddm/bootstrap_ddm_decision_conditioned.pickle', 'rb') as f:\n",
    "    decision_cond = pickle.load(f)"
   ]
  },
  {
   "cell_type": "code",
   "execution_count": 3,
   "metadata": {},
   "outputs": [],
   "source": [
    "from src.model_ddm import model\n",
    "sys.modules['model'] = model\n",
    "model_path = '../models/ddm/'"
   ]
  },
  {
   "cell_type": "code",
   "execution_count": 4,
   "metadata": {},
   "outputs": [],
   "source": [
    "models_full = {}\n",
    "models_rdcd = {}\n",
    "\n",
    "# full model\n",
    "files  = sorted([f for f in os.listdir(model_path+'full') if ('.pkl' in f)])\n",
    "for v_f in files:\n",
    "    with open(model_path+'full/'+v_f, 'rb') as f:\n",
    "        models_full[v_f[17:21]] = pickle.load(f)\n",
    "    \n",
    "# reduced model\n",
    "files  = sorted([f for f in os.listdir(model_path+'reduced') if ('.pkl' in f)])\n",
    "for v_f in files:\n",
    "    with open(model_path+'reduced/'+v_f, 'rb') as f:\n",
    "        models_rdcd[v_f[17:21]] = pickle.load(f)"
   ]
  },
  {
   "attachments": {},
   "cell_type": "markdown",
   "metadata": {},
   "source": [
    "---\n",
    "## Stimulus-specific bias dynamics"
   ]
  },
  {
   "cell_type": "code",
   "execution_count": 5,
   "metadata": {},
   "outputs": [],
   "source": [
    "stims = np.arange(180,step=7.5)\n",
    "ssb_popm = utils.circmean(stim_cond['pop'],axis=0)\n",
    "ssb_pope = utils.wrap(stim_cond['pop'] - stims.reshape((1,1,1,1,-1)), period=180.)\n",
    "ssb_pops = np.std(ssb_pope, axis=0)"
   ]
  },
  {
   "cell_type": "code",
   "execution_count": 6,
   "metadata": {},
   "outputs": [],
   "source": [
    "for i_delay in range(2):\n",
    "    ssb_popm[1,:,i_delay,12][ssb_popm[1,:,i_delay,12]>0] -= 180"
   ]
  },
  {
   "cell_type": "code",
   "execution_count": 7,
   "metadata": {},
   "outputs": [
    {
     "data": {
      "image/png": "[encoded data removed]",
      "text/plain": [
       "<Figure size 743.226x400.53 with 2 Axes>"
      ]
     },
     "metadata": {
      "needs_background": "light"
     },
     "output_type": "display_data"
    }
   ],
   "source": [
    "i_models = 1\n",
    "f, ax = plt.subplots(1,2,sharey=True)\n",
    "utils.set_size([8,4.2])\n",
    "\n",
    "ax[0].axvspan(10,11.5,color='darkgrey',alpha=0.35,linewidth=0,zorder=-3)\n",
    "ax[1].axvspan(16,17.5,color='darkgrey',alpha=0.35,linewidth=0,zorder=-3)\n",
    "\n",
    "for i_fig in range(2):\n",
    "    for s in range(24):\n",
    "        ax[i_fig].fill_between(np.arange(3,15)*2-1, \n",
    "                         ssb_popm[i_models,:,i_fig,s]-ssb_pops[i_models,:,i_fig,s], \n",
    "                         ssb_popm[i_models,:,i_fig,s]+ssb_pops[i_models,:,i_fig,s], \n",
    "                         color=utils.HUSL.colors[s], alpha=0.5, linewidth=0)\n",
    "        ax[i_fig].plot(np.arange(3,15)*2-1, ssb_popm[i_models,:,i_fig,s], color=utils.HUSL.colors[s], linewidth=3.5)\n",
    "        \n",
    "    ax[i_fig].set_ylim([-125+15,125])\n",
    "    ax[i_fig].axhline(y=0,   color='gray', linestyle='dashed', linewidth=0.9, zorder=0)\n",
    "    ax[i_fig].axhline(y=45,  color='gray', linestyle='dashed', linewidth=0.9, zorder=0)\n",
    "    ax[i_fig].axhline(y=-45, color='gray', linestyle='dashed', linewidth=0.9, zorder=0)\n",
    "    utils.draw_publish_axis(ax[i_fig], xrange=(4,28), yrange=(-90,90), xticks=[4,10,16,22,28], yticks=[-90,-45,0,45,90])    \n",
    "\n",
    "if utils.LABEL:\n",
    "    ax[0].set_ylabel(r\"Orientation in memory $(\\!\\!^\\circ\\!\\!)$\", labelpad=0)\n",
    "    \n",
    "plt.savefig(f'{utils.DIR_FIGURE}/sfig7a.pdf',bbox_inches='tight')\n",
    "plt.show()    "
   ]
  },
  {
   "cell_type": "code",
   "execution_count": 8,
   "metadata": {},
   "outputs": [],
   "source": [
    "ssb_idvm  = utils.circmean(stim_cond['indiv'],axis=0)\n",
    "ssb_idvme = utils.wrap(ssb_idvm-stims.reshape((1,1,1,-1,1)), period=180.)"
   ]
  },
  {
   "cell_type": "code",
   "execution_count": 9,
   "metadata": {},
   "outputs": [],
   "source": [
    "ssb_sim = np.nan*np.zeros((2,12,50,2))\n",
    "\n",
    "for i_models, (k_models, models) in enumerate({'full': models_full, 'reduced': models_rdcd}.items()):\n",
    "    for i_m, (k_m, model) in enumerate(models.items()):\n",
    "        _ssb = utils.stimulus_specific_bias(stims, ssb['weights'][int(k_m)], **ssb['info'])\n",
    "        for i_t, v_t in enumerate([1,2]):\n",
    "            for i_tr in range(12):\n",
    "                pattn = ssb_idvme[i_models,i_tr,i_t,:,i_m]\n",
    "                reg = LinearRegression(fit_intercept=False).fit(_ssb.reshape(-1,1),pattn)\n",
    "                ssb_sim[i_models,i_tr,i_m,i_t] = reg.coef_[0]"
   ]
  },
  {
   "cell_type": "code",
   "execution_count": 10,
   "metadata": {},
   "outputs": [
    {
     "data": {
      "image/png": "[encoded data removed]",
      "text/plain": [
       "<Figure size 743.226x181.192 with 2 Axes>"
      ]
     },
     "metadata": {
      "needs_background": "light"
     },
     "output_type": "display_data"
    }
   ],
   "source": [
    "i_models = 1\n",
    "\n",
    "f, ax = plt.subplots(1,2, sharey=True)\n",
    "utils.set_size([8,1.9])\n",
    "ax[0].axvspan(10,11.5,color='darkgrey',alpha=0.35,linewidth=0,zorder=-3)\n",
    "ax[1].axvspan(16,17.5,color='darkgrey',alpha=0.35,linewidth=0,zorder=-3)\n",
    "\n",
    "for i_fig in range(2):\n",
    "    mmm = np.nanmean(ssb_sim[i_models,:,:,i_fig],axis=1)\n",
    "    sss = np.nanstd(ssb_sim[i_models,:,:,i_fig],axis=1)/np.sqrt(50)\n",
    "    ax[i_fig].axhline(y=0, color='gray', linestyle='dashed', linewidth=0.5)\n",
    "    ax[i_fig].axhline(y=1, color='gray', linestyle='dashed', linewidth=0.5)\n",
    "    ax[i_fig].plot(np.arange(3,15)*2-1, mmm, linewidth=4, color='#4169e1')\n",
    "    ax[i_fig].fill_between(np.arange(3,15)*2-1, mmm-sss, mmm+sss, alpha=0.3, linewidth=0, color='#4169e1')\n",
    "    ax[i_fig].set_ylim([-0.6,1.5])\n",
    "    utils.draw_publish_axis(ax[i_fig], xrange=(4,28), yrange=(0,1), xticks=[4,10,16,22,28], yticks=[0,1])\n",
    "\n",
    "if utils.LABEL:\n",
    "    ax[0].set_xlabel(r\"Time from trial onset (s)\")\n",
    "    ax[1].set_xlabel(r\"Time from trial onset (s)\")\n",
    "    ax[0].set_ylabel(r\"Bias weight\", labelpad=8)\n",
    "\n",
    "plt.savefig(f'{utils.DIR_FIGURE}/sfig7b.pdf',bbox_inches='tight')\n",
    "plt.show()"
   ]
  },
  {
   "attachments": {},
   "cell_type": "markdown",
   "metadata": {},
   "source": [
    "---\n",
    "## Decision-consistent bias dynamics"
   ]
  },
  {
   "cell_type": "code",
   "execution_count": 11,
   "metadata": {},
   "outputs": [],
   "source": [
    "trs  = np.arange(3,15)*2-1\n",
    "dmIs = [12,24]\n",
    "convms = np.std(decision_cond['convm'],axis=0)\n",
    "convmm = utils.circmean(decision_cond['convm'],axis=0)\n",
    "convmm = np.stack([-convmm,+convmm],axis=-1)\n",
    "mm = utils.circmean(decision_cond['m'],axis=0)\n",
    "mm = np.stack([-mm,+mm],axis=-1)"
   ]
  },
  {
   "cell_type": "code",
   "execution_count": 12,
   "metadata": {},
   "outputs": [
    {
     "data": {
      "image/png": "[encoded data removed]",
      "text/plain": [
       "<Figure size 743.226x286.093 with 2 Axes>"
      ]
     },
     "metadata": {
      "needs_background": "light"
     },
     "output_type": "display_data"
    }
   ],
   "source": [
    "i_models = 1\n",
    "f, ax = plt.subplots(1,2, sharey=True)\n",
    "utils.set_size([8,3])\n",
    "\n",
    "colse = ['darkblue', 'darkred']\n",
    "colsl = ['blue', 'red']\n",
    "\n",
    "ax[0].axvspan(10,11.5,color='darkgrey',alpha=0.35,linewidth=0,zorder=-3)\n",
    "ax[1].axvspan(16,17.5,color='darkgrey',alpha=0.35,linewidth=0,zorder=-3)\n",
    "\n",
    "for i_delay, delay in enumerate([1,2]):\n",
    "    ax[i_delay].axhline(y=0,   color='gray', linestyle='dashed', linewidth=0.9, zorder=0)\n",
    "    cols = colse if i_delay==0 else colsl\n",
    "    for i_dm in range(2):\n",
    "        ax[i_delay].fill_between(trs, \n",
    "                                 convmm[i_models,:,i_delay,i_dm]-convms[i_models,:,i_delay], \n",
    "                                 convmm[i_models,:,i_delay,i_dm]+convms[i_models,:,i_delay], color=cols[i_dm])\n",
    "    ax[i_delay].set_ylim([-14,14])\n",
    "    ax[i_delay].set_xlim([4,28.5])\n",
    "    utils.draw_publish_axis(ax[i_delay], xrange=(4,28), yrange=(-10,10), xticks=[4,10,16,22,28], yticks=[-10,-5,0,5,10])\n",
    "    \n",
    "ax[0].hlines(mm[i_models,dmIs[0]+1,0,1], 11.5, 28.5, color='darkred',  linestyle='dashed')\n",
    "ax[0].hlines(mm[i_models,dmIs[0]+1,0,0], 11.5, 28.5, color='darkblue', linestyle='dashed')\n",
    "ax[1].hlines(mm[i_models,dmIs[1]+1,0,1], 17.5, 28.5, color='red',  linestyle='dashed')\n",
    "ax[1].hlines(mm[i_models,dmIs[1]+1,0,0], 17.5, 28.5, color='blue', linestyle='dashed')\n",
    "\n",
    "if utils.LABEL:\n",
    "    ax[0].set_xlabel(r\"Time from trial onset (s)\")    \n",
    "    ax[1].set_xlabel(r\"Time from trial onset (s)\")    \n",
    "    ax[0].set_ylabel(r\"Memory error $(\\!\\!^\\circ\\!\\!)$\", labelpad=0)\n",
    "        \n",
    "plt.savefig(f'{utils.DIR_FIGURE}/sfig7c.pdf',bbox_inches='tight')\n",
    "plt.show()"
   ]
  }
 ],
 "metadata": {
  "kernelspec": {
   "display_name": "Python 3",
   "language": "python",
   "name": "python3"
  },
  "language_info": {
   "codemirror_mode": {
    "name": "ipython",
    "version": 3
   },
   "file_extension": ".py",
   "mimetype": "text/x-python",
   "name": "python",
   "nbconvert_exporter": "python",
   "pygments_lexer": "ipython3",
   "version": "3.7.7"
  }
 },
 "nbformat": 4,
 "nbformat_minor": 4
}
