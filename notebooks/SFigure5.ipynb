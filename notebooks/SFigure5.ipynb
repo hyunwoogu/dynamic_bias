{
 "cells": [
  {
   "attachments": {},
   "cell_type": "markdown",
   "metadata": {},
   "source": [
    "# Near-reference variability by the bias parameter in DDM"
   ]
  },
  {
   "cell_type": "code",
   "execution_count": 1,
   "metadata": {},
   "outputs": [],
   "source": [
    "import sys\n",
    "import pickle\n",
    "import numpy as np\n",
    "import matplotlib.pyplot as plt\n",
    "\n",
    "sys.path.append('..')\n",
    "from src import utils\n",
    "utils.setup_matplotlib()"
   ]
  },
  {
   "cell_type": "code",
   "execution_count": 2,
   "metadata": {},
   "outputs": [
    {
     "name": "stdout",
     "output_type": "stream",
     "text": [
      "downloading data/outputs/ddm...\n",
      "data/outputs/ddm already exists. Skipping download...\n"
     ]
    }
   ],
   "source": [
    "utils.download_dataset(\"data/outputs/ddm\")\n",
    "with open('../data/outputs/ddm/results_near_reference_variability.pickle', 'rb') as f:\n",
    "    iqrs = pickle.load(f)"
   ]
  },
  {
   "cell_type": "code",
   "execution_count": 3,
   "metadata": {},
   "outputs": [],
   "source": [
    "m_iqr = np.mean(iqrs,axis=1)\n",
    "s_iqr = np.std(iqrs,axis=1)/np.sqrt(50)"
   ]
  },
  {
   "cell_type": "code",
   "execution_count": 4,
   "metadata": {},
   "outputs": [
    {
     "data": {
      "image/png": "[encoded data removed]",
      "text/plain": [
       "<Figure size 371.613x286.093 with 1 Axes>"
      ]
     },
     "metadata": {
      "needs_background": "light"
     },
     "output_type": "display_data"
    }
   ],
   "source": [
    "plt.figure()\n",
    "ax = plt.gca()\n",
    "utils.set_size([4,3])\n",
    "\n",
    "plt.vlines([-21,-4,0,4,21], \n",
    "           (m_iqr-s_iqr)[0], (m_iqr+s_iqr)[0], \n",
    "           color=\"#AAAAAA\", alpha=1, linewidth=2)\n",
    "plt.scatter([-21,-4,0,4,21], m_iqr[0], color=\"#AAAAAA\", edgecolor='none', s=100, alpha=1)\n",
    "plt.scatter([-21,-4,0,4,21], m_iqr[1], color='k', edgecolor='none', s=100, alpha=1)\n",
    "plt.plot([-21,-4,0,4,21], m_iqr[1], color='k')\n",
    "plt.xlim([-30,30])\n",
    "plt.ylim([12,15])\n",
    "\n",
    "if utils.LABEL:\n",
    "    plt.xlabel(r\"Stimulus - Reference $(\\!\\!^\\circ\\!\\!)$\")    \n",
    "    plt.ylabel(r\"Interquartile range $(\\!\\!^\\circ\\!\\!)$\")        \n",
    "utils.draw_publish_axis(ax, xrange=(-21,21), yrange=(12,16), xticks=[-21,0,21], yticks=[12,14,16])\n",
    "plt.savefig(f'{utils.DIR_FIGURE}/sfig5.pdf',bbox_inches='tight')\n",
    "plt.show()"
   ]
  }
 ],
 "metadata": {
  "kernelspec": {
   "display_name": "Python 3",
   "language": "python",
   "name": "python3"
  },
  "language_info": {
   "codemirror_mode": {
    "name": "ipython",
    "version": 3
   },
   "file_extension": ".py",
   "mimetype": "text/x-python",
   "name": "python",
   "nbconvert_exporter": "python",
   "pygments_lexer": "ipython3",
   "version": "3.7.7"
  }
 },
 "nbformat": 4,
 "nbformat_minor": 4
}
