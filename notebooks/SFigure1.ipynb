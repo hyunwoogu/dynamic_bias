{
 "cells": [
  {
   "attachments": {},
   "cell_type": "markdown",
   "metadata": {},
   "source": [
    "# Near-reference variability\n",
    "\n",
    "Analysis of near-reference variability across datasets for Supplementary Figure 1."
   ]
  },
  {
   "cell_type": "code",
   "execution_count": 1,
   "metadata": {},
   "outputs": [],
   "source": [
    "import sys\n",
    "import numpy as np\n",
    "import pandas as pd\n",
    "import matplotlib.pyplot as plt\n",
    "from scipy.stats import iqr, wilcoxon\n",
    "from statsmodels.stats.weightstats import DescrStatsW\n",
    "\n",
    "sys.path.append('..')\n",
    "from src import utils\n",
    "utils.setup_matplotlib()"
   ]
  },
  {
   "cell_type": "code",
   "execution_count": 2,
   "metadata": {},
   "outputs": [
    {
     "name": "stdout",
     "output_type": "stream",
     "text": [
      "downloading data/external...\n",
      "data/external already exists. Skipping download...\n",
      "downloading data/processed/behavior...\n",
      "data/processed/behavior already exists. Skipping download...\n"
     ]
    }
   ],
   "source": [
    "utils.download_dataset(\"data/external\")\n",
    "utils.download_dataset(\"data/processed/behavior\")\n",
    "\n",
    "cde_data  = pd.read_csv(\"../data/processed/behavior/behavior.csv\")\n",
    "zamboni   = pd.read_csv(\"../data/external/zamboni2016.csv\")\n",
    "fritsche  = pd.read_csv(\"../data/external/fritsche2019.csv\")\n",
    "rademaker = pd.read_csv(\"../data/external/rademaker2019.csv\")"
   ]
  },
  {
   "attachments": {},
   "cell_type": "markdown",
   "metadata": {},
   "source": [
    "---\n",
    "## Reference attraction: Rademaker et al. (2019)\n",
    "\n",
    "Rademaker et al. (2019) is when the intervening reference serves as a distractor.\n",
    "\n",
    "+ (`n_bin`-1) violins will be generated"
   ]
  },
  {
   "cell_type": "code",
   "execution_count": 3,
   "metadata": {},
   "outputs": [],
   "source": [
    "# Parameters\n",
    "cutoff_range = 25 # range defining \"reference\" [degree]\n",
    "cutoff_near  = 8  # range defining \"Near\" references [degree]\n",
    "n_bin        = 8\n",
    "delta        = (rademaker.orient_target - rademaker.orient_distr - 90.) % 180 - 90 \n",
    "\n",
    "#\n",
    "edges     = np.concatenate([[-np.inf],np.linspace(-cutoff_range,cutoff_range,num=n_bin)])\n",
    "digitized = np.digitize(delta, edges, right=True)\n",
    "digit_of_interest = np.arange(2,n_bin+1)\n",
    "neg_ref_relative  = np.round(edges[1:(-1)] + (edges[2]-edges[1])/2.)"
   ]
  },
  {
   "cell_type": "code",
   "execution_count": 4,
   "metadata": {},
   "outputs": [],
   "source": [
    "# quantiles\n",
    "quantiles = np.nan*np.empty([len(neg_ref_relative),3])\n",
    "for i_bin, v_bin in enumerate(digit_of_interest):\n",
    "    quantiles[i_bin,0] = np.quantile(rademaker.error[digitized==v_bin],0.25)\n",
    "    quantiles[i_bin,1] = np.quantile(rademaker.error[digitized==v_bin],0.50)\n",
    "    quantiles[i_bin,2] = np.quantile(rademaker.error[digitized==v_bin],0.75)"
   ]
  },
  {
   "attachments": {},
   "cell_type": "markdown",
   "metadata": {},
   "source": [
    "+ Population data"
   ]
  },
  {
   "cell_type": "code",
   "execution_count": 5,
   "metadata": {},
   "outputs": [
    {
     "data": {
      "image/png": "[encoded data removed]",
      "text/plain": [
       "<Figure size 371.613x238.411 with 1 Axes>"
      ]
     },
     "metadata": {
      "needs_background": "light"
     },
     "output_type": "display_data"
    }
   ],
   "source": [
    "plt.figure()\n",
    "ax = plt.gca()\n",
    "utils.set_size([4,2.5])\n",
    "\n",
    "violin_plot = ax.violinplot([\n",
    "    rademaker.error[digitized==v_bin] for v_bin in digit_of_interest],\n",
    "    widths=1.2, showextrema=False, bw_method=.12)\n",
    "\n",
    "for i_pc, v_pc in enumerate(violin_plot['bodies']):\n",
    "    if i_pc in np.where(np.abs(neg_ref_relative)<cutoff_near)[0]: \n",
    "        v_pc.set_facecolor(\"#616161\")    \n",
    "    else: \n",
    "        v_pc.set_facecolor(\"#AAAAAA\")\n",
    "    mmm = np.mean(v_pc.get_paths()[0].vertices[:, 0])    \n",
    "    v_pc.get_paths()[0].vertices[:, 0] = np.clip(v_pc.get_paths()[0].vertices[:, 0], -np.inf, mmm)\n",
    "    v_pc.set_alpha(0.8)\n",
    "    \n",
    "ax.set_ylim([-50,50])\n",
    "ax.vlines(np.arange(1,len(neg_ref_relative)+1)+0.11, quantiles[:,0], quantiles[:,2], color='darkblue', linestyle='dashed', linewidth=1)\n",
    "ax.hlines(quantiles[:,2], np.arange(1,len(neg_ref_relative)+1)+0.05, np.arange(1,len(neg_ref_relative)+1)+0.17, color='darkblue', linewidth=2)\n",
    "ax.hlines(quantiles[:,0], np.arange(1,len(neg_ref_relative)+1)+0.05, np.arange(1,len(neg_ref_relative)+1)+0.17, color='darkblue', linewidth=2)\n",
    "ax.axhline(y=0, color='gray', linestyle='dashed', linewidth=0.5)\n",
    "\n",
    "ax.set_xticks(np.arange(1,len(neg_ref_relative)+1))\n",
    "ax.set_xticklabels(np.round(neg_ref_relative).astype(int))\n",
    "utils.draw_publish_axis(ax, xrange=(1,7), yrange=(-40,40), xticks=None, yticks=[-40,0,40])\n",
    "if utils.LABEL:\n",
    "    ax.set_xlabel(r'Stimulus - Reference $(^\\circ)$')\n",
    "    ax.set_ylabel(r'Estimation error $(^\\circ)$')\n",
    "plt.savefig(f'{utils.DIR_FIGURE}/sfig1d.pdf',bbox_inches='tight')\n",
    "plt.show()"
   ]
  },
  {
   "attachments": {},
   "cell_type": "markdown",
   "metadata": {},
   "source": [
    "+ Individual data"
   ]
  },
  {
   "cell_type": "code",
   "execution_count": 6,
   "metadata": {},
   "outputs": [],
   "source": [
    "id_unique = np.unique(rademaker.subject)\n",
    "iqr_list  = np.nan*np.zeros([len(id_unique),len(neg_ref_relative)])\n",
    "\n",
    "for i_id, v_id in enumerate(id_unique):\n",
    "    for i_bin, v_bin in enumerate(digit_of_interest):\n",
    "        idx = (rademaker.subject==v_id) & (digitized==v_bin)\n",
    "        iqr_list[i_id,i_bin] = iqr(rademaker.error[idx])"
   ]
  },
  {
   "cell_type": "code",
   "execution_count": 7,
   "metadata": {},
   "outputs": [
    {
     "data": {
      "image/png": "[encoded data removed]",
      "text/plain": [
       "<Figure size 278.71x286.093 with 1 Axes>"
      ]
     },
     "metadata": {
      "needs_background": "light"
     },
     "output_type": "display_data"
    }
   ],
   "source": [
    "cutoff_in = np.abs(neg_ref_relative)<cutoff_near\n",
    "m_iqr = np.mean(iqr_list,axis=0)\n",
    "s_iqr = np.std(iqr_list,axis=0)/np.sqrt(len(id_unique))\n",
    "\n",
    "plt.figure()\n",
    "ax = plt.gca()\n",
    "utils.set_size([3,3])\n",
    "plt.vlines(neg_ref_relative[cutoff_in], \n",
    "           (m_iqr-s_iqr)[cutoff_in], (m_iqr+s_iqr)[cutoff_in], color='#616161')\n",
    "plt.scatter(neg_ref_relative[cutoff_in], m_iqr[cutoff_in],  color='#616161')\n",
    "plt.vlines(neg_ref_relative[~cutoff_in], \n",
    "           (m_iqr-s_iqr)[~cutoff_in], (m_iqr+s_iqr)[~cutoff_in], color='#AAAAAA')\n",
    "plt.scatter(neg_ref_relative[~cutoff_in], m_iqr[~cutoff_in], color='#AAAAAA')\n",
    "plt.xlim([-30,30])\n",
    "plt.axvline(x=0, color='gray', linestyle='dashed', linewidth=0.5)\n",
    "plt.ylim([5,20])\n",
    "\n",
    "utils.draw_publish_axis(ax, xrange=(-21,21), yrange=(5,20), xticks=[-21,0,21], yticks=[5,10,15,20])\n",
    "if utils.LABEL:\n",
    "    plt.xlabel(r'Stimulus - Reference $(^\\circ)$')\n",
    "    plt.ylabel(r'Interquartile range $(^\\circ)$')\n",
    "plt.savefig(f'{utils.DIR_FIGURE}/sfig1e.pdf',bbox_inches='tight')\n",
    "plt.show()"
   ]
  },
  {
   "attachments": {},
   "cell_type": "markdown",
   "metadata": {},
   "source": [
    "+ IQR ratio"
   ]
  },
  {
   "cell_type": "code",
   "execution_count": 8,
   "metadata": {},
   "outputs": [],
   "source": [
    "iqrr_list = np.nan*np.zeros([len(id_unique),2])\n",
    "idx_n     = np.isin(digitized,[4,5,6])\n",
    "idx_f     = np.isin(digitized,[2,3,7,8])\n",
    "\n",
    "for i_id, v_id in enumerate(id_unique):\n",
    "    idx = (rademaker.subject==v_id)\n",
    "    iqrr_list[i_id,0] = iqr(rademaker.error[idx&idx_n])\n",
    "    iqrr_list[i_id,1] = iqr(rademaker.error[idx&idx_f])"
   ]
  },
  {
   "cell_type": "code",
   "execution_count": 9,
   "metadata": {},
   "outputs": [
    {
     "data": {
      "image/png": "[encoded data removed]",
      "text/plain": [
       "<Figure size 167.226x286.093 with 1 Axes>"
      ]
     },
     "metadata": {
      "needs_background": "light"
     },
     "output_type": "display_data"
    }
   ],
   "source": [
    "plt.figure()\n",
    "ax = plt.gca()\n",
    "utils.set_size([1.8,3])\n",
    "\n",
    "patches = plt.barh(np.arange(len(id_unique)), \n",
    "                   np.sort(iqrr_list[:,0]/iqrr_list[:,1])-1, height=0.66, color='k')\n",
    "for i,p in enumerate(patches):\n",
    "    if np.sort(iqrr_list[:,0]/iqrr_list[:,1])[i] > 1:\n",
    "        plt.setp(p, \"facecolor\", '#616161')\n",
    "    else:\n",
    "        plt.setp(p, \"facecolor\", '#AAAAAA')\n",
    "\n",
    "ax.set_xlim([-0.5,0.5])\n",
    "ax.set_xticks([-0.5,0,0.5])\n",
    "ax.set_xticklabels([0.5,1.,1.5])\n",
    "ax.set_yticks([0,2,4,6,8,10])\n",
    "ax.set_yticklabels([1,3,5,7,9,11])\n",
    "if utils.LABEL:\n",
    "    plt.xlabel(r'IQR ratio' '\\n' '(Near / Far)')\n",
    "    plt.ylabel(r'Participants')\n",
    "utils.draw_publish_axis(ax, xrange=(-0.5,0.5), yrange=(0,11), xticks=None, yticks=None)\n",
    "plt.savefig(f'{utils.DIR_FIGURE}/sfig1f.pdf',bbox_inches='tight')\n",
    "plt.show()"
   ]
  },
  {
   "cell_type": "code",
   "execution_count": 10,
   "metadata": {},
   "outputs": [],
   "source": [
    "%%capture\n",
    "ttest  = DescrStatsW(iqrr_list[:,0]/iqrr_list[:,1]-1)\n",
    "wilcox = wilcoxon(iqrr_list[:,0]/iqrr_list[:,1]-1)"
   ]
  },
  {
   "cell_type": "code",
   "execution_count": 11,
   "metadata": {},
   "outputs": [
    {
     "name": "stdout",
     "output_type": "stream",
     "text": [
      "IQR ratio vs. 1\n",
      "\n",
      "Paired samples t-test\n",
      "t(11)= -3.6019931302211403 p= 0.004155397556642711\n",
      "95% CI= [0.76155753 0.94243304]\n",
      "\n",
      "Wilcoxon signed-rank test (without continuity correction)\n",
      "V= 3.0 p= 0.012458141993823996\n"
     ]
    }
   ],
   "source": [
    "print(\"IQR ratio vs. 1\")\n",
    "print('\\nPaired samples t-test')\n",
    "print(f't({len(iqrr_list)-1})=',  ttest.ttest_mean()[0], 'p=', ttest.ttest_mean()[1])\n",
    "print('95% CI=', np.array(ttest.tconfint_mean())+1)\n",
    "print('\\nWilcoxon signed-rank test (without continuity correction)')\n",
    "print('V=', wilcox[0], 'p=', wilcox[1])"
   ]
  },
  {
   "attachments": {},
   "cell_type": "markdown",
   "metadata": {},
   "source": [
    "----"
   ]
  },
  {
   "attachments": {},
   "cell_type": "markdown",
   "metadata": {},
   "source": [
    "## Reference repulsion: 1. Zamboni et al. (2016)\n",
    "\n",
    "Only \"reference absent\" case."
   ]
  },
  {
   "cell_type": "code",
   "execution_count": 12,
   "metadata": {},
   "outputs": [],
   "source": [
    "n_bin   = 10\n",
    "delta   = zamboni.Delta\n",
    "error   = (zamboni.Estimate - zamboni.Delta - 90. ) % 180 - 90.\n",
    "\n",
    "edges     = np.concatenate([[-np.inf],np.linspace(-cutoff_range,cutoff_range,num=n_bin)])\n",
    "digitized = np.digitize(delta, edges, right=True)\n",
    "digit_of_interest = np.arange(3,n_bin)\n",
    "neg_ref_relative  = np.round(edges[2:(-2)] + (edges[2]-edges[1])/2.)\n",
    "\n",
    "# quantiles\n",
    "quantiles = np.nan*np.empty([len(neg_ref_relative),3])\n",
    "for i_bin, v_bin in enumerate(digit_of_interest):\n",
    "    quantiles[i_bin,0] = np.quantile(error[digitized==v_bin],0.25)\n",
    "    quantiles[i_bin,1] = np.quantile(error[digitized==v_bin],0.50)\n",
    "    quantiles[i_bin,2] = np.quantile(error[digitized==v_bin],0.75)"
   ]
  },
  {
   "cell_type": "code",
   "execution_count": 13,
   "metadata": {},
   "outputs": [
    {
     "data": {
      "image/png": "[encoded data removed]",
      "text/plain": [
       "<Figure size 371.613x238.411 with 1 Axes>"
      ]
     },
     "metadata": {
      "needs_background": "light"
     },
     "output_type": "display_data"
    }
   ],
   "source": [
    "plt.figure()\n",
    "ax = plt.gca()\n",
    "utils.set_size([4,2.5])\n",
    "\n",
    "violin_plot = ax.violinplot([\n",
    "    error[digitized==v_bin] for v_bin in digit_of_interest],\n",
    "    widths=1.2, showextrema=False, bw_method=.2)\n",
    "\n",
    "for i_pc, v_pc in enumerate(violin_plot['bodies']):\n",
    "    if i_pc in np.where(np.abs(neg_ref_relative)<cutoff_near)[0]: \n",
    "        v_pc.set_facecolor(\"#616161\")    \n",
    "    else: \n",
    "        v_pc.set_facecolor(\"#AAAAAA\")\n",
    "    mmm = np.mean(v_pc.get_paths()[0].vertices[:, 0])    \n",
    "    v_pc.get_paths()[0].vertices[:, 0] = np.clip(v_pc.get_paths()[0].vertices[:, 0], -np.inf, mmm)\n",
    "    v_pc.set_alpha(0.8)\n",
    "\n",
    "ax.set_ylim([-50,50])\n",
    "ax.set_xlim(0,len(neg_ref_relative)+1)\n",
    "ax.vlines(np.arange(1,len(neg_ref_relative)+1)+0.11, quantiles[:,0], quantiles[:,2], color='darkblue', linestyle='dashed', linewidth=1)\n",
    "ax.hlines(quantiles[:,2], np.arange(1,len(neg_ref_relative)+1)+0.05, np.arange(1,len(neg_ref_relative)+1)+0.17, color='darkblue', linewidth=2)\n",
    "ax.hlines(quantiles[:,0], np.arange(1,len(neg_ref_relative)+1)+0.05, np.arange(1,len(neg_ref_relative)+1)+0.17, color='darkblue', linewidth=2)\n",
    "ax.axhline(y=0, color='gray', linestyle='dashed', linewidth=0.5)\n",
    "\n",
    "utils.draw_publish_axis(ax, xrange=(1,7), yrange=(-40,40), xticks=None, yticks=[-40,0,40])\n",
    "ax.set_xticks(np.arange(1,len(neg_ref_relative)+1))\n",
    "ax.set_xticklabels(neg_ref_relative.astype(int))\n",
    "if utils.LABEL:\n",
    "    ax.set_xlabel(r'Stimulus - Reference $(^\\circ)$')\n",
    "    ax.set_ylabel(r'Estimation error $(^\\circ)$')\n",
    "plt.savefig(f'{utils.DIR_FIGURE}/sfig1a_zamboni.pdf',bbox_inches='tight')\n",
    "plt.show()"
   ]
  },
  {
   "cell_type": "code",
   "execution_count": 14,
   "metadata": {},
   "outputs": [],
   "source": [
    "id_unique = np.unique(zamboni.ID)\n",
    "iqr_list  = np.nan*np.zeros([len(id_unique),len(neg_ref_relative)])\n",
    "\n",
    "for i_id, v_id in enumerate(id_unique):\n",
    "    for i_bin, v_bin in enumerate(digit_of_interest):\n",
    "        idx = (zamboni.ID==v_id) & (digitized==v_bin)\n",
    "        iqr_list[i_id,i_bin] = iqr(error[idx])"
   ]
  },
  {
   "cell_type": "code",
   "execution_count": 15,
   "metadata": {},
   "outputs": [
    {
     "data": {
      "image/png": "[encoded data removed]",
      "text/plain": [
       "<Figure size 278.71x286.093 with 1 Axes>"
      ]
     },
     "metadata": {
      "needs_background": "light"
     },
     "output_type": "display_data"
    }
   ],
   "source": [
    "cutoff_in = np.abs(neg_ref_relative)<cutoff_near\n",
    "\n",
    "m_iqr = np.mean(iqr_list,axis=0)\n",
    "s_iqr = np.std(iqr_list,axis=0)/np.sqrt(len(id_unique))\n",
    "\n",
    "plt.figure()\n",
    "ax = plt.gca()\n",
    "utils.set_size([3,3])\n",
    "\n",
    "plt.vlines(neg_ref_relative[cutoff_in], \n",
    "           (m_iqr-s_iqr)[cutoff_in], (m_iqr+s_iqr)[cutoff_in], color='#616161')\n",
    "plt.scatter(neg_ref_relative[cutoff_in], m_iqr[cutoff_in], color='#616161')\n",
    "\n",
    "plt.vlines(neg_ref_relative[~cutoff_in], \n",
    "           (m_iqr-s_iqr)[~cutoff_in], (m_iqr+s_iqr)[~cutoff_in], color='#AAAAAA')\n",
    "plt.scatter(neg_ref_relative[~cutoff_in], m_iqr[~cutoff_in], color='#AAAAAA')\n",
    "plt.xlim([-30,30])\n",
    "plt.axvline(x=0, color='gray', linestyle='dashed', linewidth=0.5)\n",
    "plt.ylim([10,30])\n",
    "\n",
    "utils.draw_publish_axis(ax, xrange=(-21,21), yrange=(10,30), xticks=[-21,0,21], yticks=[10,20,30])\n",
    "if utils.LABEL:\n",
    "    plt.xlabel(r'Stimulus - Reference $(^\\circ)$')\n",
    "    plt.ylabel(r'Interquartile range $(^\\circ)$')\n",
    "plt.savefig(f'{utils.DIR_FIGURE}/sfig1b_zamboni.pdf',bbox_inches='tight')\n",
    "plt.show()"
   ]
  },
  {
   "cell_type": "code",
   "execution_count": 16,
   "metadata": {},
   "outputs": [],
   "source": [
    "iqrr_list = np.nan*np.zeros([len(id_unique),2])\n",
    "idx_n     = np.isin(digitized,[5,6,7])\n",
    "idx_f     = np.isin(digitized,[3,4,8,9])\n",
    "\n",
    "for i_id, v_id in enumerate(id_unique):\n",
    "    idx = (zamboni.ID==v_id)\n",
    "    iqrr_list[i_id,0] = iqr(error[idx&idx_n])\n",
    "    iqrr_list[i_id,1] = iqr(error[idx&idx_f])"
   ]
  },
  {
   "cell_type": "code",
   "execution_count": 17,
   "metadata": {},
   "outputs": [
    {
     "data": {
      "image/png": "[encoded data removed]",
      "text/plain": [
       "<Figure size 167.226x286.093 with 1 Axes>"
      ]
     },
     "metadata": {
      "needs_background": "light"
     },
     "output_type": "display_data"
    }
   ],
   "source": [
    "plt.figure()\n",
    "ax = plt.gca()\n",
    "utils.set_size([1.8,3])\n",
    "\n",
    "patches = plt.barh(np.arange(len(id_unique)), np.sort(iqrr_list[:,0]/iqrr_list[:,1])-1, height=0.66, color='k')\n",
    "for i,p in enumerate(patches):\n",
    "    if np.sort(iqrr_list[:,0]/iqrr_list[:,1])[i] > 1:\n",
    "        plt.setp(p, \"facecolor\", '#616161')\n",
    "    else:\n",
    "        plt.setp(p, \"facecolor\", '#AAAAAA')\n",
    "    \n",
    "ax.set_xlim([-0.5,0.5])\n",
    "ax.set_xticks([-0.5,0,0.5])\n",
    "ax.set_xticklabels([0.5,1.,1.5])\n",
    "ax.set_yticks([0,2,4])\n",
    "ax.set_yticklabels([1,3,5])\n",
    "\n",
    "utils.draw_publish_axis(ax, xrange=(-0.5,0.5), yrange=(0,4), xticks=None, yticks=None)\n",
    "if utils.LABEL:\n",
    "    plt.xlabel(r'IQR ratio' '\\n' '(Near / Far)')\n",
    "    plt.ylabel(r'Participants')\n",
    "plt.savefig(f'{utils.DIR_FIGURE}/sfig1c_zamboni.pdf',bbox_inches='tight')\n",
    "plt.show()"
   ]
  },
  {
   "cell_type": "code",
   "execution_count": 18,
   "metadata": {},
   "outputs": [
    {
     "name": "stdout",
     "output_type": "stream",
     "text": [
      "IQR ratio vs. 1\n",
      "\n",
      "Paired samples t-test\n",
      "t(4)= 2.327063223497296 p= 0.08051074420175852\n",
      "95% CI= [0.95381931 1.52446155]\n",
      "\n",
      "Wilcoxon signed-rank test (without continuity correction)\n",
      "V= 1.0 p= 0.125\n"
     ]
    }
   ],
   "source": [
    "ttest  = DescrStatsW(iqrr_list[:,0]/iqrr_list[:,1]-1)\n",
    "wilcox = wilcoxon(iqrr_list[:,0]/iqrr_list[:,1]-1)\n",
    "print(\"IQR ratio vs. 1\")\n",
    "print('\\nPaired samples t-test')\n",
    "print(f't({len(iqrr_list)-1})=',  ttest.ttest_mean()[0], 'p=', ttest.ttest_mean()[1])\n",
    "print('95% CI=', np.array(ttest.tconfint_mean())+1)\n",
    "print('\\nWilcoxon signed-rank test (without continuity correction)')\n",
    "print('V=', wilcox[0], 'p=', wilcox[1])"
   ]
  },
  {
   "attachments": {},
   "cell_type": "markdown",
   "metadata": {},
   "source": [
    "## Reference repulsion: 2. Fritsche et al. (2019)"
   ]
  },
  {
   "cell_type": "code",
   "execution_count": 19,
   "metadata": {},
   "outputs": [],
   "source": [
    "cutoff_range = 15\n",
    "n_bin     = 8\n",
    "delta     = (fritsche.Stim - fritsche.Bdry - 90.) % 180 - 90 \n",
    "error     = (fritsche.Estim - fritsche.Stim - 90.) % 180 - 90 \n",
    "concat    = np.concatenate\n",
    "edges     = concat([[-np.inf],np.linspace(-cutoff_range,cutoff_range,num=n_bin)])\n",
    "digitized = np.digitize(delta, edges, right=True)\n",
    "digit_of_interest = np.arange(2,n_bin+1)\n",
    "neg_ref_relative  = np.round(edges[1:(-1)] + (edges[2]-edges[1])/2.)\n",
    "\n",
    "# quantiles\n",
    "quantiles = np.nan*np.empty([len(neg_ref_relative),3])\n",
    "for i_bin, v_bin in enumerate(digit_of_interest):\n",
    "    quantiles[i_bin,0] = np.quantile(error[digitized==v_bin],0.25)\n",
    "    quantiles[i_bin,1] = np.quantile(error[digitized==v_bin],0.50)\n",
    "    quantiles[i_bin,2] = np.quantile(error[digitized==v_bin],0.75)"
   ]
  },
  {
   "cell_type": "code",
   "execution_count": 20,
   "metadata": {},
   "outputs": [
    {
     "data": {
      "image/png": "[encoded data removed]",
      "text/plain": [
       "<Figure size 371.613x238.411 with 1 Axes>"
      ]
     },
     "metadata": {
      "needs_background": "light"
     },
     "output_type": "display_data"
    }
   ],
   "source": [
    "plt.figure()\n",
    "ax = plt.gca()\n",
    "utils.set_size([4,2.5])\n",
    "\n",
    "violin_plot = ax.violinplot([\n",
    "    error[digitized==v_bin] for v_bin in digit_of_interest],\n",
    "    widths=1.2, showextrema=False, bw_method=.08)\n",
    "\n",
    "for i_pc, v_pc in enumerate(violin_plot['bodies']):\n",
    "    if i_pc in np.where(np.abs(neg_ref_relative)<cutoff_near)[0]: \n",
    "        v_pc.set_facecolor(\"#616161\")    \n",
    "    else: \n",
    "        v_pc.set_facecolor(\"#AAAAAA\")\n",
    "    mmm = np.mean(v_pc.get_paths()[0].vertices[:, 0])    \n",
    "    v_pc.get_paths()[0].vertices[:, 0] = np.clip(v_pc.get_paths()[0].vertices[:, 0], -np.inf, mmm)\n",
    "    v_pc.set_alpha(0.8)\n",
    "    \n",
    "ax.set_ylim([-35,35])\n",
    "ax.set_xlim(0,len(neg_ref_relative)+1)\n",
    "ax.set_xticks(np.arange(1,len(neg_ref_relative)+1))\n",
    "ax.set_xticklabels(neg_ref_relative.astype(int))\n",
    "ax.vlines(np.arange(1,len(neg_ref_relative)+1)+0.11, quantiles[:,0], quantiles[:,2], color='darkblue', linestyle='dashed', linewidth=1)\n",
    "ax.hlines(quantiles[:,2], np.arange(1,len(neg_ref_relative)+1)+0.05, np.arange(1,len(neg_ref_relative)+1)+0.17, color='darkblue', linewidth=2)\n",
    "ax.hlines(quantiles[:,0], np.arange(1,len(neg_ref_relative)+1)+0.05, np.arange(1,len(neg_ref_relative)+1)+0.17, color='darkblue', linewidth=2)\n",
    "ax.axhline(y=0, color='gray', linestyle='dashed', linewidth=0.5)\n",
    "\n",
    "utils.draw_publish_axis(ax, xrange=(1,7), yrange=(-30,30), xticks=None, yticks=[-30,0,30])\n",
    "if utils.LABEL:\n",
    "    ax.set_xlabel(r'Stimulus - Reference $(^\\circ)$')\n",
    "    ax.set_ylabel(r'Estimation error $(^\\circ)$')\n",
    "plt.savefig(f'{utils.DIR_FIGURE}/sfig1a_fritsche.pdf',bbox_inches='tight')\n",
    "plt.show()"
   ]
  },
  {
   "cell_type": "code",
   "execution_count": 21,
   "metadata": {},
   "outputs": [],
   "source": [
    "id_unique = np.unique(fritsche.ID)\n",
    "iqr_list  = np.nan*np.zeros([len(id_unique),len(neg_ref_relative)])\n",
    "\n",
    "for i_id, v_id in enumerate(id_unique):\n",
    "    for i_bin, v_bin in enumerate(digit_of_interest):\n",
    "        idx = (fritsche.ID==v_id) & (digitized==v_bin)\n",
    "        iqr_list[i_id,i_bin] = iqr(error[idx])"
   ]
  },
  {
   "cell_type": "code",
   "execution_count": 22,
   "metadata": {},
   "outputs": [
    {
     "data": {
      "image/png": "[encoded data removed]",
      "text/plain": [
       "<Figure size 278.71x286.093 with 1 Axes>"
      ]
     },
     "metadata": {
      "needs_background": "light"
     },
     "output_type": "display_data"
    }
   ],
   "source": [
    "cutoff_in = np.abs(neg_ref_relative)<cutoff_near\n",
    "m_iqr = np.mean(iqr_list,axis=0)\n",
    "s_iqr = np.std(iqr_list,axis=0)/np.sqrt(len(id_unique))\n",
    "\n",
    "plt.figure()\n",
    "ax = plt.gca()\n",
    "utils.set_size([3,3])\n",
    "plt.vlines(neg_ref_relative[cutoff_in], \n",
    "           (m_iqr-s_iqr)[cutoff_in], (m_iqr+s_iqr)[cutoff_in], color='#616161')\n",
    "plt.scatter(neg_ref_relative[cutoff_in], m_iqr[cutoff_in], color='#616161')\n",
    "\n",
    "plt.vlines(neg_ref_relative[~cutoff_in], \n",
    "           (m_iqr-s_iqr)[~cutoff_in], (m_iqr+s_iqr)[~cutoff_in], color='#AAAAAA')\n",
    "plt.scatter(neg_ref_relative[~cutoff_in], m_iqr[~cutoff_in], color='#AAAAAA')\n",
    "\n",
    "plt.xlim([-25,25])\n",
    "plt.axvline(x=0, color='gray', linestyle='dashed', linewidth=0.5)\n",
    "plt.ylim([8,16])\n",
    "\n",
    "utils.draw_publish_axis(ax, xrange=(-21,21), yrange=(8,16), xticks=[-21,0,21], yticks=[8,12,16])\n",
    "if utils.LABEL:\n",
    "    plt.xlabel(r'Stimulus - Reference $(^\\circ)$')\n",
    "    plt.ylabel(r'Interquartile range $(^\\circ)$')\n",
    "plt.savefig(f'{utils.DIR_FIGURE}/sfig1b_fritsche.pdf',bbox_inches='tight')\n",
    "plt.show()"
   ]
  },
  {
   "cell_type": "code",
   "execution_count": 23,
   "metadata": {},
   "outputs": [],
   "source": [
    "iqrr_list = np.nan*np.zeros([len(id_unique),2])\n",
    "idx_n     = np.isin(digitized,[4,5,6])\n",
    "idx_f     = np.isin(digitized,[2,3,7,8])\n",
    "\n",
    "for i_id, v_id in enumerate(id_unique):\n",
    "    idx = (fritsche.ID==v_id)\n",
    "    iqrr_list[i_id,0] = iqr(error[idx&idx_n])\n",
    "    iqrr_list[i_id,1] = iqr(error[idx&idx_f])"
   ]
  },
  {
   "cell_type": "code",
   "execution_count": 24,
   "metadata": {},
   "outputs": [
    {
     "data": {
      "image/png": "[encoded data removed]",
      "text/plain": [
       "<Figure size 167.226x286.093 with 1 Axes>"
      ]
     },
     "metadata": {
      "needs_background": "light"
     },
     "output_type": "display_data"
    }
   ],
   "source": [
    "plt.figure()\n",
    "ax = plt.gca()\n",
    "utils.set_size([1.8,3])\n",
    "patches = plt.barh(np.arange(len(id_unique)), \n",
    "                   np.sort(iqrr_list[:,0]/iqrr_list[:,1])-1, height=0.66, color='k')\n",
    "for i,p in enumerate(patches):\n",
    "    if np.sort(iqrr_list[:,0]/iqrr_list[:,1])[i] > 1:\n",
    "        plt.setp(p, \"facecolor\", '#616161')\n",
    "    else:\n",
    "        plt.setp(p, \"facecolor\", '#AAAAAA')\n",
    "    \n",
    "ax.set_xlim([-0.5,0.5])\n",
    "ax.set_xticks([-0.5,0,0.5])\n",
    "ax.set_xticklabels([0.5,1.,1.5])\n",
    "ax.set_yticks([0,10,20])\n",
    "ax.set_yticklabels([1,11,21])\n",
    "\n",
    "utils.draw_publish_axis(ax, xrange=(-0.5,0.5), yrange=(0,24), xticks=None, yticks=None)\n",
    "if utils.LABEL:\n",
    "    plt.xlabel(r'IQR ratio' '\\n' '(Near / Far)')\n",
    "    plt.ylabel(r'Participants')\n",
    "plt.savefig(f'{utils.DIR_FIGURE}/sfig1c_fritsche.pdf',bbox_inches='tight')\n",
    "plt.show()"
   ]
  },
  {
   "cell_type": "code",
   "execution_count": 25,
   "metadata": {},
   "outputs": [
    {
     "name": "stdout",
     "output_type": "stream",
     "text": [
      "IQR ratio vs. 1\n",
      "\n",
      "Paired samples t-test\n",
      "t(23)= 2.637444934458539 p= 0.014719344721543728\n",
      "95% CI= [1.01250091 1.10343154]\n",
      "\n",
      "Wilcoxon signed-rank test (without continuity correction)\n",
      "V= 55.0 p= 0.005330443382263184\n"
     ]
    }
   ],
   "source": [
    "ttest  = DescrStatsW(iqrr_list[:,0]/iqrr_list[:,1]-1)\n",
    "wilcox = wilcoxon(iqrr_list[:,0]/iqrr_list[:,1]-1)\n",
    "print(\"IQR ratio vs. 1\")\n",
    "print('\\nPaired samples t-test')\n",
    "print(f't({len(iqrr_list)-1})=',  ttest.ttest_mean()[0], 'p=', ttest.ttest_mean()[1])\n",
    "print('95% CI=', np.array(ttest.tconfint_mean())+1)\n",
    "print('\\nWilcoxon signed-rank test (without continuity correction)')\n",
    "print('V=', wilcox[0], 'p=', wilcox[1])"
   ]
  },
  {
   "attachments": {},
   "cell_type": "markdown",
   "metadata": {},
   "source": [
    "## Reference repulsion: 3. Discrimination-Estimation task (ours)"
   ]
  },
  {
   "cell_type": "code",
   "execution_count": 26,
   "metadata": {},
   "outputs": [],
   "source": [
    "cde_data = cde_data[(~np.isnan(cde_data['choice'])) & (~np.isnan(cde_data['error']))]\n",
    "ref_relative = [-21,-4,0,4,21] # relative orientations of reference\n",
    "quantiles    = np.nan*np.empty([len(ref_relative),3])\n",
    "for i_r, v_r in enumerate(ref_relative):\n",
    "    idx   = cde_data.ref==-v_r\n",
    "    error = cde_data.error.to_numpy()[idx]\n",
    "    quantiles[i_r,0] = np.quantile(error,0.25)\n",
    "    quantiles[i_r,1] = np.quantile(error,0.50)\n",
    "    quantiles[i_r,2] = np.quantile(error,0.75)"
   ]
  },
  {
   "cell_type": "code",
   "execution_count": 27,
   "metadata": {},
   "outputs": [
    {
     "data": {
      "image/png": "[encoded data removed]",
      "text/plain": [
       "<Figure size 371.613x238.411 with 1 Axes>"
      ]
     },
     "metadata": {
      "needs_background": "light"
     },
     "output_type": "display_data"
    }
   ],
   "source": [
    "plt.figure()\n",
    "ax = plt.gca()\n",
    "utils.set_size([4,2.5])\n",
    "\n",
    "violin_plot = ax.violinplot([cde_data.error[cde_data.ref==r] for r in ref_relative],\n",
    "                            widths=1.2, showextrema=False, bw_method=.05)\n",
    "for i_pc, v_pc in enumerate(violin_plot['bodies']):\n",
    "    if i_pc in [1,2,3]: v_pc.set_facecolor(\"#616161\")\n",
    "    else: v_pc.set_facecolor(\"#AAAAAA\")\n",
    "    mmm = np.mean(v_pc.get_paths()[0].vertices[:, 0])    \n",
    "    v_pc.get_paths()[0].vertices[:, 0] = np.clip(v_pc.get_paths()[0].vertices[:, 0], -np.inf, mmm)\n",
    "    v_pc.set_alpha(0.8)\n",
    "\n",
    "ax.set_xlim(0,len(ref_relative)+1)\n",
    "ax.set_ylim([-51,51])\n",
    "ax.vlines(np.arange(1,6)+0.11, quantiles[:,0], quantiles[:,2], color='darkblue', linestyle='dashed', linewidth=1)\n",
    "ax.hlines(quantiles[:,2], np.arange(1,6)+0.05, np.arange(1,6)+0.17, color='darkblue', linewidth=2)\n",
    "ax.hlines(quantiles[:,0], np.arange(1,6)+0.05, np.arange(1,6)+0.17, color='darkblue', linewidth=2)\n",
    "ax.axhline(y=0, color='gray', linestyle='dashed', linewidth=0.5)\n",
    "\n",
    "utils.draw_publish_axis(ax, xrange=(1,5), yrange=(-40,40), xticks=None, yticks=[-40,0,40])\n",
    "ax.set_xticks(np.arange(1,6))\n",
    "ax.set_xticklabels(ref_relative)\n",
    "if utils.LABEL:\n",
    "    ax.set_xlabel(r'Stimulus - Reference $(^\\circ)$')\n",
    "    ax.set_ylabel(r'Estimation error $(^\\circ)$')\n",
    "plt.savefig(f'{utils.DIR_FIGURE}/sfig1a_gu.pdf',bbox_inches='tight')\n",
    "plt.show()"
   ]
  },
  {
   "cell_type": "code",
   "execution_count": 28,
   "metadata": {},
   "outputs": [],
   "source": [
    "iqr_list  = np.nan*np.zeros([len(np.unique(cde_data.ID)),len(ref_relative)])\n",
    "\n",
    "for i_id, v_id in enumerate(np.unique(cde_data.ID)):\n",
    "    for i_ref, v_ref in enumerate(ref_relative):\n",
    "        idx = (cde_data.ID==v_id) & (-cde_data.ref==v_ref)\n",
    "        iqr_list[i_id,i_ref] = iqr(cde_data.error[idx])"
   ]
  },
  {
   "cell_type": "code",
   "execution_count": 29,
   "metadata": {},
   "outputs": [
    {
     "data": {
      "image/png": "[encoded data removed]",
      "text/plain": [
       "<Figure size 278.71x286.093 with 1 Axes>"
      ]
     },
     "metadata": {
      "needs_background": "light"
     },
     "output_type": "display_data"
    }
   ],
   "source": [
    "cutoff_in = np.abs(ref_relative)<cutoff_near\n",
    "m_iqr = np.mean(iqr_list,axis=0)\n",
    "s_iqr = np.std(iqr_list,axis=0)/np.sqrt(50)\n",
    "\n",
    "plt.figure()\n",
    "ax = plt.gca()\n",
    "utils.set_size([3,3])\n",
    "plt.vlines(np.array(ref_relative)[cutoff_in], \n",
    "           (m_iqr-s_iqr)[cutoff_in], (m_iqr+s_iqr)[cutoff_in], color='#616161')\n",
    "plt.scatter(np.array(ref_relative)[cutoff_in], m_iqr[cutoff_in], color='#616161')\n",
    "\n",
    "plt.vlines(np.array(ref_relative)[~cutoff_in], \n",
    "           (m_iqr-s_iqr)[~cutoff_in], (m_iqr+s_iqr)[~cutoff_in], color='#AAAAAA')\n",
    "plt.scatter(np.array(ref_relative)[~cutoff_in], m_iqr[~cutoff_in], color='#AAAAAA')\n",
    "plt.xlim([-30,30])\n",
    "plt.axvline(x=0, color='gray', linestyle='dashed', linewidth=0.5)\n",
    "plt.ylim([8,15])\n",
    "\n",
    "utils.draw_publish_axis(ax, xrange=(-21,21), yrange=(8,16), xticks=[-21,0,21], yticks=[8,12,16])\n",
    "if utils.LABEL:\n",
    "    plt.xlabel(r'Stimulus - Reference $(^\\circ)$')\n",
    "    plt.ylabel(r'Interquartile range $(^\\circ)$')\n",
    "plt.savefig(f'{utils.DIR_FIGURE}/sfig1b_gu.pdf',bbox_inches='tight')\n",
    "plt.show()"
   ]
  },
  {
   "cell_type": "code",
   "execution_count": 30,
   "metadata": {},
   "outputs": [],
   "source": [
    "from scipy.stats import iqr\n",
    "id_list  = np.unique(cde_data.ID)\n",
    "\n",
    "iqrr_list = np.nan*np.empty((len(id_list),2))\n",
    "for i_id, v_id in enumerate(id_list): \n",
    "    idx_n = (cde_data.ID==v_id) & (np.abs(cde_data.ref)<cutoff_near)\n",
    "    idx_f = (cde_data.ID==v_id) & (np.abs(cde_data.ref)>cutoff_near)\n",
    "    iqrr_list[i_id,0] = iqr(cde_data.error[idx_n])\n",
    "    iqrr_list[i_id,1] = iqr(cde_data.error[idx_f])"
   ]
  },
  {
   "cell_type": "code",
   "execution_count": 31,
   "metadata": {},
   "outputs": [
    {
     "data": {
      "image/png": "[encoded data removed]",
      "text/plain": [
       "<Figure size 167.226x286.093 with 1 Axes>"
      ]
     },
     "metadata": {
      "needs_background": "light"
     },
     "output_type": "display_data"
    }
   ],
   "source": [
    "plt.figure()\n",
    "ax = plt.gca()\n",
    "utils.set_size([1.8,3])\n",
    "\n",
    "patches = plt.barh(np.arange(len(np.unique(cde_data.ID))), \n",
    "                   np.sort(iqrr_list[:,0]/iqrr_list[:,1])-1, height=0.66, color='k')\n",
    "for i,p in enumerate(patches):\n",
    "    if np.sort(iqrr_list[:,0]/iqrr_list[:,1])[i] > 1:\n",
    "        plt.setp(p, \"facecolor\", '#616161')\n",
    "    else:\n",
    "        plt.setp(p, \"facecolor\", '#AAAAAA')\n",
    "    \n",
    "ax.set_xlim([-0.5,0.5])\n",
    "ax.set_xticks([-0.5,0,0.5])\n",
    "ax.set_xticklabels([0.5,1.,1.5])\n",
    "ax.set_yticks([0,7,14,21,28,35,42,49])\n",
    "ax.set_yticklabels([1,8,15,22,29,36,43,50])\n",
    "\n",
    "utils.draw_publish_axis(ax, xrange=(-0.5,0.5), yrange=(0,49), xticks=None, yticks=None)\n",
    "if utils.LABEL:\n",
    "    plt.xlabel(r'IQR ratio' '\\n' '(Near / Far)')\n",
    "    plt.ylabel(r'Participants')\n",
    "plt.savefig(f'{utils.DIR_FIGURE}/sfig1c_gu.pdf',bbox_inches='tight')\n",
    "plt.show()"
   ]
  },
  {
   "cell_type": "code",
   "execution_count": 32,
   "metadata": {},
   "outputs": [
    {
     "name": "stdout",
     "output_type": "stream",
     "text": [
      "IQR ratio vs. 1\n",
      "\n",
      "Paired samples t-test\n",
      "t(49)= 5.4325245904675175 p= 1.7288022985514728e-06\n",
      "95% CI= [1.08671275 1.18852892]\n",
      "\n",
      "Wilcoxon signed-rank test (without continuity correction)\n",
      "V= 177.0 p= 8.775508182574744e-06\n"
     ]
    }
   ],
   "source": [
    "ttest  = DescrStatsW(iqrr_list[:,0]/iqrr_list[:,1]-1)\n",
    "wilcox = wilcoxon(iqrr_list[:,0]/iqrr_list[:,1]-1)\n",
    "print(\"IQR ratio vs. 1\")\n",
    "print('\\nPaired samples t-test')\n",
    "print(f't({len(iqrr_list)-1})=',  ttest.ttest_mean()[0], 'p=', ttest.ttest_mean()[1])\n",
    "print('95% CI=', np.array(ttest.tconfint_mean())+1)\n",
    "print('\\nWilcoxon signed-rank test (without continuity correction)')\n",
    "print('V=', wilcox[0], 'p=', wilcox[1])"
   ]
  }
 ],
 "metadata": {
  "kernelspec": {
   "display_name": "base",
   "language": "python",
   "name": "python3"
  },
  "language_info": {
   "codemirror_mode": {
    "name": "ipython",
    "version": 3
   },
   "file_extension": ".py",
   "mimetype": "text/x-python",
   "name": "python",
   "nbconvert_exporter": "python",
   "pygments_lexer": "ipython3",
   "version": "3.7.7"
  },
  "vscode": {
   "interpreter": {
    "hash": "53bf54f225a5a941142385013cb28e6a12d053081e552d7a8c014f448f1f974b"
   }
  }
 },
 "nbformat": 4,
 "nbformat_minor": 4
}
