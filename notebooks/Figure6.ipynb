{
 "cells": [
  {
   "attachments": {},
   "cell_type": "markdown",
   "metadata": {},
   "source": [
    "# Delay-dependent post-decision bias"
   ]
  },
  {
   "cell_type": "code",
   "execution_count": 1,
   "metadata": {},
   "outputs": [],
   "source": [
    "import sys\n",
    "import pickle\n",
    "import pandas as pd\n",
    "import numpy as np\n",
    "import statsmodels.api as sm\n",
    "import matplotlib as mpl\n",
    "import matplotlib.pyplot as plt\n",
    "from scipy.stats import norm, wilcoxon, pearsonr, spearmanr\n",
    "from scipy.optimize import minimize\n",
    "from sklearn.linear_model import LinearRegression\n",
    "from statsmodels.stats.weightstats import DescrStatsW\n",
    "\n",
    "sys.path.append('..')\n",
    "from src import utils\n",
    "utils.setup_matplotlib()"
   ]
  },
  {
   "cell_type": "code",
   "execution_count": 2,
   "metadata": {},
   "outputs": [
    {
     "name": "stdout",
     "output_type": "stream",
     "text": [
      "downloading data/processed/behavior...\n",
      "data/processed/behavior already exists. Skipping download...\n",
      "downloading data/outputs/fmri...\n",
      "data/outputs/fmri already exists. Skipping download...\n",
      "downloading data/outputs/ddm...\n",
      "data/outputs/ddm already exists. Skipping download...\n"
     ]
    }
   ],
   "source": [
    "utils.download_dataset(\"data/processed/behavior\")\n",
    "utils.download_dataset(\"data/outputs/fmri\")\n",
    "utils.download_dataset(\"data/outputs/ddm\")\n",
    "\n",
    "behavior = pd.read_csv(\"../data/processed/behavior/behavior.csv\")\n",
    "behavior = behavior[(~np.isnan(behavior['choice'])) & (~np.isnan(behavior['error']))]\n",
    "\n",
    "with open('../data/outputs/ddm/demo_post_decision_bias.pickle', 'rb') as f:\n",
    "    dcb_demo = pickle.load(f)\n",
    "\n",
    "with open('../data/outputs/ddm/results_decision_consistent_bias.pickle', 'rb') as f:\n",
    "    dcb_ddm = pickle.load(f)\n",
    "\n",
    "with open('../data/outputs/fmri/results_decision_consistent_bias.pickle', 'rb') as f:\n",
    "    dcb_bold = pickle.load(f)"
   ]
  },
  {
   "attachments": {},
   "cell_type": "markdown",
   "metadata": {},
   "source": [
    "---\n",
    "## Schematic"
   ]
  },
  {
   "cell_type": "code",
   "execution_count": 3,
   "metadata": {},
   "outputs": [],
   "source": [
    "d_bpre  = dcb_demo['bpre'][:,:,1]  - dcb_demo['bpre'][:,:,0]\n",
    "d_bpost = dcb_demo['bpost'][:,:,1] - dcb_demo['bpost'][:,:,0]"
   ]
  },
  {
   "cell_type": "code",
   "execution_count": 4,
   "metadata": {},
   "outputs": [
    {
     "data": {
      "image/png": "[encoded data removed]",
      "text/plain": [
       "<Figure size 371.613x381.457 with 1 Axes>"
      ]
     },
     "metadata": {
      "needs_background": "light"
     },
     "output_type": "display_data"
    }
   ],
   "source": [
    "lim = 3.5\n",
    "plt.figure()\n",
    "ax = plt.gca()\n",
    "utils.set_size([4,4])\n",
    "\n",
    "plt.axvline(x=0, linestyle='dotted', color='gray', linewidth=0.6)\n",
    "plt.axhline(y=0, linestyle='dotted', color='gray', linewidth=0.6)\n",
    "\n",
    "plt.xlim([-lim,lim])\n",
    "plt.ylim([-lim,lim])\n",
    "\n",
    "for i_w, w_K in enumerate(dcb_demo['w_K']):\n",
    "    plt.scatter(d_bpre[i_w], d_bpost[i_w], color=utils.BLUES.colors[1+i_w])\n",
    "utils.draw_publish_axis(ax, xrange=(-2,2), yrange=(-2,2), xticks=[-2,0,2], yticks=[-2,0,2])\n",
    "plt.savefig(f'{utils.DIR_FIGURE}/fig6b_left.pdf',bbox_inches='tight')\n",
    "plt.show()"
   ]
  },
  {
   "cell_type": "code",
   "execution_count": 5,
   "metadata": {},
   "outputs": [
    {
     "data": {
      "image/png": "[encoded data removed]",
      "text/plain": [
       "<Figure size 167.226x381.457 with 1 Axes>"
      ]
     },
     "metadata": {
      "needs_background": "light"
     },
     "output_type": "display_data"
    }
   ],
   "source": [
    "lim = 3.5\n",
    "plt.figure()\n",
    "ax = plt.gca()\n",
    "utils.set_size([1.8,4])\n",
    "\n",
    "for i_w, w_K in enumerate(dcb_demo['w_K']):    \n",
    "    plt.hist(d_bpost[i_w], color=utils.BLUES.colors[1+i_w], \n",
    "             range=[-lim,lim], bins=80, density=True, orientation='horizontal')    \n",
    "\n",
    "plt.xlim([0,15])\n",
    "plt.ylim([-lim,lim])\n",
    "ax.set_xticks([0,10])\n",
    "ax.set_xticklabels([])\n",
    "\n",
    "utils.draw_publish_axis(ax, xrange=(0,10), yrange=(-2,2), xticks=None, yticks=[-2,0,2])\n",
    "plt.savefig(f'{utils.DIR_FIGURE}/fig6b_right.pdf',bbox_inches='tight')\n",
    "plt.show()"
   ]
  },
  {
   "cell_type": "code",
   "execution_count": 6,
   "metadata": {},
   "outputs": [
    {
     "data": {
      "image/png": "[encoded data removed]",
      "text/plain": [
       "<Figure size 648x72 with 1 Axes>"
      ]
     },
     "metadata": {
      "needs_background": "light"
     },
     "output_type": "display_data"
    }
   ],
   "source": [
    "fig, ax = plt.subplots(figsize=(9,1))\n",
    "fig.subplots_adjust(bottom=0.5)\n",
    "\n",
    "cmap = mpl.cm.GnBu\n",
    "_nm  = mpl.colors.Normalize(vmin=0, vmax=dcb_demo['w_K'][-1])\n",
    "\n",
    "fig.colorbar(mpl.cm.ScalarMappable(norm=_nm, cmap=cmap), cax=ax, orientation='horizontal')\n",
    "ax.xaxis.set_ticks_position('top')\n",
    "ax.xaxis.set_ticks([0,0.5,1,1.5,2])\n",
    "plt.tight_layout()\n",
    "plt.savefig(f'{utils.DIR_FIGURE}/fig6b_upper.pdf',bbox_inches='tight')\n",
    "plt.show()"
   ]
  },
  {
   "attachments": {},
   "cell_type": "markdown",
   "metadata": {},
   "source": [
    "---\n",
    "## Behavior"
   ]
  },
  {
   "cell_type": "code",
   "execution_count": 7,
   "metadata": {},
   "outputs": [],
   "source": [
    "esti   = behavior.esti.to_numpy()\n",
    "error  = behavior.error.to_numpy()\n",
    "evi    = -behavior.ref.to_numpy()\n",
    "ref    = behavior.ref.to_numpy()\n",
    "dm     = 2.-behavior.choice.to_numpy()\n",
    "timing = behavior.Timing.to_numpy()\n",
    "subid  = behavior.ID.to_numpy()\n",
    "subids = np.unique(subid)\n",
    "n_sam  = 100000\n",
    "\n",
    "def nll_EL(par, evi, dm, tim):\n",
    "    m, s1, s2_add, lam = par\n",
    "    s2        = np.sqrt(s1**2 + s2_add**2)\n",
    "    probE     = utils.psi(evi[tim==1], m, s1, lam)\n",
    "    probL     = utils.psi(evi[tim==2], m, s2, lam)\n",
    "    sumE_ll   = np.sum(np.log(probE[dm[tim==1]==1])) + np.sum(np.log(1.-probE[dm[tim==1]==0]))\n",
    "    sumL_ll   = np.sum(np.log(probL[dm[tim==2]==1])) + np.sum(np.log(1.-probL[dm[tim==2]==0]))\n",
    "    return -sumE_ll - sumL_ll"
   ]
  },
  {
   "cell_type": "code",
   "execution_count": 8,
   "metadata": {},
   "outputs": [],
   "source": [
    "res_mat = np.zeros([len(subids),4]) * np.nan\n",
    "for i_id, v_id in enumerate(subids):\n",
    "    _timing = timing[subid==v_id]\n",
    "    _evi    = evi[subid==v_id]\n",
    "    _dm     = dm[subid==v_id]\n",
    "\n",
    "    res = minimize(nll_EL, [0,5.,5.,0], args = (_evi, _dm, _timing), \n",
    "                   bounds = [[-30., 30.], [utils.EPS, 30.], [utils.EPS, 10.], [utils.EPS, 0.5]])\n",
    "    res_mat[i_id, :] = res['x']    "
   ]
  },
  {
   "cell_type": "code",
   "execution_count": 9,
   "metadata": {},
   "outputs": [],
   "source": [
    "np.random.seed(2023)\n",
    "cmd_indv = np.zeros((len(subids),2,2)) # EL / CWCCW\n",
    "cmd_pred = np.zeros((len(subids),2,2)) # EL / CWCCW\n",
    "\n",
    "for i_id, v_id in enumerate(subids):\n",
    "    err_e = error[(subid==v_id)&(np.abs(evi)<5)&(timing==1)]\n",
    "    err_l = error[(subid==v_id)&(np.abs(evi)<5)&(timing==2)]\n",
    "    dm_e  = dm[(subid==v_id)&(np.abs(evi)<5)&(timing==1)]\n",
    "    dm_l  = dm[(subid==v_id)&(np.abs(evi)<5)&(timing==2)]\n",
    "\n",
    "    cmd_indv[i_id,0,0] = err_e[dm_e==0].mean()\n",
    "    cmd_indv[i_id,0,1] = err_e[dm_e==1].mean()\n",
    "    cmd_indv[i_id,1,0] = err_l[dm_l==0].mean()\n",
    "    cmd_indv[i_id,1,1] = err_l[dm_l==1].mean()\n",
    "    \n",
    "    idx = (subid==v_id) & (timing==1)\n",
    "    lin = LinearRegression().fit(ref[idx].reshape((-1,1)), error[idx])\n",
    "    b_e = lin.coef_[0]\n",
    "    idx = (subid==v_id) & (timing==2)\n",
    "    lin = LinearRegression().fit(ref[idx].reshape((-1,1)), error[idx])\n",
    "    b_l = lin.coef_[0]\n",
    "    \n",
    "    _s1  = res_mat[i_id,1]\n",
    "    _s2  = np.sqrt(_s1**2 + res_mat[i_id,2]**2)\n",
    "    r   = np.random.choice([-4,0,4],size=n_sam)\n",
    "    x_e = norm.rvs(loc=res_mat[i_id,0], scale=_s1, size=n_sam); d_e = (x_e>r)*1\n",
    "    x_l = norm.rvs(loc=res_mat[i_id,0], scale=_s2, size=n_sam); d_l = (x_l>r)*1\n",
    "    \n",
    "    # attraction correction\n",
    "    x_e = (1.-b_e)*x_e + b_e*r\n",
    "    x_l = (1.-b_l)*x_l + b_l*r\n",
    "    \n",
    "    # With lapses\n",
    "    lam_e = np.random.choice([0,1], len(d_e), p=[1.-res_mat[i_id,3]*2, res_mat[i_id,3]*2], replace=True)\n",
    "    lam_l = np.random.choice([0,1], len(d_l), p=[1.-res_mat[i_id,3]*2, res_mat[i_id,3]*2], replace=True)\n",
    "    d_e[lam_e==1] = np.random.choice([0,1], sum(lam_e), p=[0.5,0.5], replace=True)\n",
    "    d_l[lam_l==1] = np.random.choice([0,1], sum(lam_l), p=[0.5,0.5], replace=True)\n",
    "    \n",
    "    cmd_pred[i_id,0,0] = x_e[d_e==0].mean()\n",
    "    cmd_pred[i_id,0,1] = x_e[d_e==1].mean()\n",
    "    cmd_pred[i_id,1,0] = x_l[d_l==0].mean()\n",
    "    cmd_pred[i_id,1,1] = x_l[d_l==1].mean()"
   ]
  },
  {
   "cell_type": "code",
   "execution_count": 10,
   "metadata": {},
   "outputs": [],
   "source": [
    "# [n_subj, early/late]\n",
    "bpre    = (cmd_pred[:,:,1] - cmd_pred[:,:,0])/2.\n",
    "bpost   = (cmd_indv[:,:,1] - cmd_indv[:,:,0])/2. - bpre\n",
    "d_bpre  = bpre[:,1]  - bpre[:,0]\n",
    "d_bpost = bpost[:,1] - bpost[:,0]"
   ]
  },
  {
   "cell_type": "code",
   "execution_count": 11,
   "metadata": {},
   "outputs": [
    {
     "name": "stdout",
     "output_type": "stream",
     "text": [
      "Relation between d_bpre and d_bpost\n",
      "\n",
      "Linear regression\n",
      "Coefficient: -0.8746647323244201\n",
      "p-value: 5.065668655876804e-05\n",
      "\n",
      "Correlation coefficient\n",
      "Pearson r= -0.540580007594685 p= 5.065668655876814e-05\n",
      "Pearson CI= (-0.7118206360730923, -0.3086789704474051)\n",
      "Spearman rho= -0.6216086434573829 p= 1.451978660176381e-06\n",
      "SpearmanrResult(correlation=-0.6216086434573829, pvalue=1.451978660176381e-06)\n"
     ]
    }
   ],
   "source": [
    "X = np.array([d_bpre]).T\n",
    "y = np.array([d_bpost]).T\n",
    "X2 = sm.add_constant(X)\n",
    "est = sm.OLS(y, X2)\n",
    "est2 = est.fit()\n",
    "\n",
    "spear = spearmanr(d_bpre,d_bpost)\n",
    "pears = pearsonr(d_bpre,d_bpost)\n",
    "pears_CI = utils.pearson_CI(d_bpre,d_bpost)\n",
    "print('Relation between d_bpre and d_bpost')\n",
    "print('\\nLinear regression')\n",
    "print(f'Coefficient: {est2.params[-1]}')\n",
    "print(f'p-value: {est2.pvalues[-1]}')\n",
    "print('\\nCorrelation coefficient')\n",
    "print('Pearson r=', pears[0], 'p=', pears[1])\n",
    "print('Pearson CI=', pears_CI)\n",
    "print('Spearman rho=', spear.correlation, 'p=', spear.pvalue)\n",
    "print(spearmanr(d_bpre,d_bpost))"
   ]
  },
  {
   "cell_type": "code",
   "execution_count": 12,
   "metadata": {},
   "outputs": [
    {
     "data": {
      "image/png": "[encoded data removed]",
      "text/plain": [
       "<Figure size 278.71x286.093 with 1 Axes>"
      ]
     },
     "metadata": {
      "needs_background": "light"
     },
     "output_type": "display_data"
    }
   ],
   "source": [
    "lim = 17\n",
    "plt.figure()\n",
    "ax = plt.gca()\n",
    "utils.set_size([3,3])\n",
    "\n",
    "plt.axvline(x=0, linestyle='dotted', color='gray', linewidth=0.6)\n",
    "plt.axhline(y=0, linestyle='dotted', color='gray', linewidth=0.6)\n",
    "plt.scatter(d_bpre, d_bpost, color='darkblue', alpha=0.5, s=50)\n",
    "\n",
    "x_line  = np.linspace(-lim,lim,100)\n",
    "x_mean  = np.mean(d_bpre)\n",
    "se_line = est2.scale * (1/50 + (x_line-x_mean)**2/np.sum((d_bpre-x_mean)**2))\n",
    "se_line = se_line**0.5\n",
    "y_line = est2.params[0] + x_line * est2.params[1]\n",
    "plt.plot(x_line, y_line, color='darkblue', linewidth=1.1)\n",
    "plt.fill_between(x_line, y_line-se_line, y_line+se_line, color='darkblue', alpha=0.1, linewidth=0, zorder=-3)\n",
    "\n",
    "plt.xlim([-lim,lim])\n",
    "plt.ylim([-lim,lim])\n",
    "\n",
    "utils.draw_publish_axis(ax, xrange=(-15,15), yrange=(-15,15), xticks=[-15,0,15], yticks=[-15,0,15])\n",
    "plt.savefig(f'{utils.DIR_FIGURE}/fig6c_left.pdf',bbox_inches='tight')\n",
    "plt.show()"
   ]
  },
  {
   "cell_type": "code",
   "execution_count": 13,
   "metadata": {},
   "outputs": [
    {
     "data": {
      "image/png": "[encoded data removed]",
      "text/plain": [
       "<Figure size 139.355x286.093 with 1 Axes>"
      ]
     },
     "metadata": {
      "needs_background": "light"
     },
     "output_type": "display_data"
    }
   ],
   "source": [
    "lim = 17\n",
    "plt.figure()\n",
    "ax = plt.gca()\n",
    "utils.set_size([1.5,3])\n",
    "\n",
    "plt.axhline(y=0, linestyle='dotted', color='k', linewidth=2)\n",
    "plt.hist(d_bpost, bins=50, range=[-lim,lim], color='gray', \n",
    "         orientation='horizontal', density=True)\n",
    "\n",
    "plt.xlim([0,0.5])\n",
    "plt.ylim([-lim,lim])\n",
    "\n",
    "utils.draw_publish_axis(ax, xrange=(0,0.5), yrange=(-15,15), xticks=None, yticks=[-15,0,15])\n",
    "plt.savefig(f'{utils.DIR_FIGURE}/fig6c_right.pdf',bbox_inches='tight')\n",
    "plt.show()"
   ]
  },
  {
   "cell_type": "code",
   "execution_count": 14,
   "metadata": {},
   "outputs": [
    {
     "name": "stdout",
     "output_type": "stream",
     "text": [
      "d_bpost vs. 0\n",
      "\n",
      "One-sample t-test (two-sided)\n",
      "t(49)= -3.6115536771478243 p= 0.0007151186719621784\n",
      "95% CI= (-1.788332833605331, -0.5096610828126348)\n",
      "\n",
      "One-sample t-test (one-sided)\n",
      "t(49)= -3.6115536771478243 p= 0.0003575593359810892\n",
      "\n",
      "Wilcoxon signed-rank test (without continuity correction)\n",
      "V= 303.0 p= 0.0012421446192700297\n"
     ]
    }
   ],
   "source": [
    "ttest  = DescrStatsW(d_bpost)\n",
    "wilcox = wilcoxon(d_bpost)\n",
    "print(\"d_bpost vs. 0\")\n",
    "print('\\nOne-sample t-test (two-sided)')\n",
    "print('t(49)=',  ttest.ttest_mean()[0], 'p=', ttest.ttest_mean()[1])\n",
    "print('95% CI=', ttest.tconfint_mean())\n",
    "print('\\nOne-sample t-test (one-sided)')\n",
    "if ttest.ttest_mean()[0] < 0:\n",
    "    p_val = ttest.ttest_mean()[1]/2\n",
    "else:\n",
    "    p_val = (1.-ttest.ttest_mean()[1])/2\n",
    "print('t(49)=',  ttest.ttest_mean()[0], 'p=', p_val)\n",
    "print('\\nWilcoxon signed-rank test (without continuity correction)')\n",
    "print('V=', wilcox[0], 'p=', wilcox[1])"
   ]
  },
  {
   "attachments": {},
   "cell_type": "markdown",
   "metadata": {},
   "source": [
    "---\n",
    "## BOLD responses"
   ]
  },
  {
   "cell_type": "code",
   "execution_count": 15,
   "metadata": {},
   "outputs": [],
   "source": [
    "d_bpre  = dcb_bold['bpre'][:,1]  - dcb_bold['bpre'][:,0]\n",
    "d_bpost = dcb_bold['bpost'][:,1] - dcb_bold['bpost'][:,0]"
   ]
  },
  {
   "cell_type": "code",
   "execution_count": 16,
   "metadata": {},
   "outputs": [
    {
     "name": "stdout",
     "output_type": "stream",
     "text": [
      "Relation between d_bpre and d_bpost\n",
      "\n",
      "Linear regression\n",
      "Coefficient: -0.3613371314512601\n",
      "p-value: 0.008727901967488409\n",
      "\n",
      "Correlation coefficient\n",
      "Pearson r= -0.36711841861353706 p= 0.008727901967488384\n",
      "Pearson CI= (-0.585623298469931, -0.09887432905219641)\n",
      "Spearman rho= -0.2971908763505402 p= 0.036089489054343275\n",
      "SpearmanrResult(correlation=-0.2971908763505402, pvalue=0.036089489054343275)\n"
     ]
    }
   ],
   "source": [
    "X = np.array([d_bpre]).T\n",
    "y = np.array([d_bpost]).T\n",
    "X2 = sm.add_constant(X)\n",
    "est = sm.OLS(y, X2)\n",
    "est2 = est.fit()\n",
    "\n",
    "spear = spearmanr(d_bpre,d_bpost)\n",
    "pears = pearsonr(d_bpre,d_bpost)\n",
    "pears_CI = utils.pearson_CI(d_bpre,d_bpost)\n",
    "print('Relation between d_bpre and d_bpost')\n",
    "print('\\nLinear regression')\n",
    "print(f'Coefficient: {est2.params[-1]}')\n",
    "print(f'p-value: {est2.pvalues[-1]}')\n",
    "print('\\nCorrelation coefficient')\n",
    "print('Pearson r=', pears[0], 'p=', pears[1])\n",
    "print('Pearson CI=', pears_CI)\n",
    "print('Spearman rho=', spear.correlation, 'p=', spear.pvalue)\n",
    "print(spearmanr(d_bpre,d_bpost))"
   ]
  },
  {
   "cell_type": "code",
   "execution_count": 17,
   "metadata": {},
   "outputs": [
    {
     "data": {
      "image/png": "[encoded data removed]",
      "text/plain": [
       "<Figure size 278.71x286.093 with 1 Axes>"
      ]
     },
     "metadata": {
      "needs_background": "light"
     },
     "output_type": "display_data"
    }
   ],
   "source": [
    "lim = 35\n",
    "plt.figure()\n",
    "ax = plt.gca()\n",
    "utils.set_size([3,3])\n",
    "\n",
    "plt.axvline(x=0, linestyle='dotted', color='gray', linewidth=0.6)\n",
    "plt.axhline(y=0, linestyle='dotted', color='gray', linewidth=0.6)\n",
    "plt.scatter(d_bpre, d_bpost, color='darkblue', alpha=0.5, s=50)\n",
    "\n",
    "x_line  = np.linspace(-lim,lim,100)\n",
    "x_mean  = np.mean(d_bpre)\n",
    "se_line = est2.scale * (1/50 + (x_line-x_mean)**2/np.sum((d_bpre-x_mean)**2))\n",
    "se_line = se_line**0.5\n",
    "y_line = est2.params[0] + x_line * est2.params[1]\n",
    "plt.plot(x_line, y_line, color='darkblue', linewidth=1.1)\n",
    "plt.fill_between(x_line, y_line-se_line, y_line+se_line, color='darkblue', alpha=0.1, linewidth=0, zorder=-3)\n",
    "\n",
    "plt.xlim([-lim,lim])\n",
    "plt.ylim([-lim,lim])\n",
    "\n",
    "utils.draw_publish_axis(ax, xrange=(-30,30), yrange=(-30,30), xticks=[-30,0,30], yticks=[-30,0,30])\n",
    "plt.savefig(f'{utils.DIR_FIGURE}/fig6d_left.pdf',bbox_inches='tight')\n",
    "plt.show()"
   ]
  },
  {
   "cell_type": "code",
   "execution_count": 18,
   "metadata": {},
   "outputs": [
    {
     "data": {
      "image/png": "[encoded data removed]",
      "text/plain": [
       "<Figure size 139.355x286.093 with 1 Axes>"
      ]
     },
     "metadata": {
      "needs_background": "light"
     },
     "output_type": "display_data"
    }
   ],
   "source": [
    "plt.figure()\n",
    "ax = plt.gca()\n",
    "utils.set_size([1.5,3])\n",
    "\n",
    "plt.axhline(y=0, linestyle='dotted', color='k', linewidth=2)\n",
    "plt.hist(d_bpost, bins=50, range=[-lim,lim], color='gray', \n",
    "         orientation='horizontal', density=True)\n",
    "\n",
    "plt.xlim([0,0.25])\n",
    "plt.ylim([-lim,lim])\n",
    "\n",
    "utils.draw_publish_axis(ax, xrange=(0,0.25), yrange=(-30,30), xticks=None, yticks=[-30,0,30])\n",
    "plt.savefig(f'{utils.DIR_FIGURE}/fig6d_right.pdf',bbox_inches='tight')\n",
    "plt.show()"
   ]
  },
  {
   "cell_type": "code",
   "execution_count": 19,
   "metadata": {},
   "outputs": [
    {
     "name": "stdout",
     "output_type": "stream",
     "text": [
      "d_bpost vs. 0\n",
      "\n",
      "One-sample t-test (two-sided)\n",
      "t(49)= -2.485310571214301 p= 0.01640537855754956\n",
      "95% CI= (-2.001774160591225, -0.2118662732494947)\n",
      "\n",
      "One-sample t-test (one-sided)\n",
      "t(49)= -2.485310571214301 p= 0.00820268927877478\n",
      "\n",
      "Wilcoxon signed-rank test (without continuity correction)\n",
      "V= 416.0 p= 0.0325004148959391\n"
     ]
    }
   ],
   "source": [
    "ttest  = DescrStatsW(d_bpost)\n",
    "wilcox = wilcoxon(d_bpost)\n",
    "print(\"d_bpost vs. 0\")\n",
    "print('\\nOne-sample t-test (two-sided)')\n",
    "print('t(49)=',  ttest.ttest_mean()[0], 'p=', ttest.ttest_mean()[1])\n",
    "print('95% CI=', ttest.tconfint_mean())\n",
    "print('\\nOne-sample t-test (one-sided)')\n",
    "if ttest.ttest_mean()[0] < 0:\n",
    "    p_val = ttest.ttest_mean()[1]/2\n",
    "else:\n",
    "    p_val = (1.-ttest.ttest_mean()[1])/2\n",
    "print('t(49)=',  ttest.ttest_mean()[0], 'p=', p_val)\n",
    "print('\\nWilcoxon signed-rank test (without continuity correction)')\n",
    "print('V=', wilcox[0], 'p=', wilcox[1])"
   ]
  },
  {
   "attachments": {},
   "cell_type": "markdown",
   "metadata": {},
   "source": [
    "---\n",
    "## DDM: full model"
   ]
  },
  {
   "cell_type": "code",
   "execution_count": 20,
   "metadata": {},
   "outputs": [],
   "source": [
    "d_bpre  = dcb_ddm['bpre'][0,:,1]  - dcb_ddm['bpre'][0,:,0]\n",
    "d_bpost = dcb_ddm['bpost'][0,:,1] - dcb_ddm['bpost'][0,:,0]"
   ]
  },
  {
   "cell_type": "code",
   "execution_count": 21,
   "metadata": {},
   "outputs": [
    {
     "name": "stdout",
     "output_type": "stream",
     "text": [
      "Relation between d_bpre and d_bpost\n",
      "\n",
      "Linear regression\n",
      "Coefficient: -0.23835631085232653\n",
      "p-value: 1.014704463331758e-09\n",
      "\n",
      "Correlation coefficient\n",
      "Pearson r= -0.7373610826662844 p= 1.01470446333175e-09\n",
      "Pearson CI= (-0.8427420783479748, -0.5775516720729639)\n",
      "Spearman rho= -0.7551020408163265 p= 2.3638824773100394e-10\n",
      "SpearmanrResult(correlation=-0.7551020408163265, pvalue=2.3638824773100394e-10)\n"
     ]
    }
   ],
   "source": [
    "X = np.array([d_bpre]).T\n",
    "y = np.array([d_bpost]).T\n",
    "X2 = sm.add_constant(X)\n",
    "est = sm.OLS(y, X2)\n",
    "est2 = est.fit()\n",
    "\n",
    "spear = spearmanr(d_bpre,d_bpost)\n",
    "pears = pearsonr(d_bpre,d_bpost)\n",
    "pears_CI = utils.pearson_CI(d_bpre,d_bpost)\n",
    "print('Relation between d_bpre and d_bpost')\n",
    "print('\\nLinear regression')\n",
    "print(f'Coefficient: {est2.params[-1]}')\n",
    "print(f'p-value: {est2.pvalues[-1]}')\n",
    "print('\\nCorrelation coefficient')\n",
    "print('Pearson r=', pears[0], 'p=', pears[1])\n",
    "print('Pearson CI=', pears_CI)\n",
    "print('Spearman rho=', spear.correlation, 'p=', spear.pvalue)\n",
    "print(spearmanr(d_bpre,d_bpost))"
   ]
  },
  {
   "cell_type": "code",
   "execution_count": 22,
   "metadata": {},
   "outputs": [
    {
     "data": {
      "image/png": "[encoded data removed]",
      "text/plain": [
       "<Figure size 278.71x286.093 with 1 Axes>"
      ]
     },
     "metadata": {
      "needs_background": "light"
     },
     "output_type": "display_data"
    }
   ],
   "source": [
    "lim = 5\n",
    "plt.figure()\n",
    "ax = plt.gca()\n",
    "utils.set_size([3,3])\n",
    "\n",
    "plt.axvline(x=0, linestyle='dotted', color='gray', linewidth=0.6)\n",
    "plt.axhline(y=0, linestyle='dotted', color='gray', linewidth=0.6)\n",
    "plt.scatter(d_bpre, d_bpost, color='darkblue', alpha=0.5, s=50)\n",
    "\n",
    "x_line  = np.linspace(-lim,lim,100)\n",
    "x_mean  = np.mean(d_bpre)\n",
    "se_line = est2.scale * (1/50 + (x_line-x_mean)**2/np.sum((d_bpre-x_mean)**2))\n",
    "se_line = se_line**0.5\n",
    "y_line = est2.params[0] + x_line * est2.params[1]\n",
    "plt.plot(x_line, y_line, color='darkblue', linewidth=1.1)\n",
    "plt.fill_between(x_line, y_line-se_line, y_line+se_line, color='darkblue', alpha=0.1, linewidth=0, zorder=-3)\n",
    "\n",
    "plt.xlim([-lim,lim])\n",
    "plt.ylim([-lim,lim])\n",
    "\n",
    "utils.draw_publish_axis(ax, xrange=(-4,4), yrange=(-4,4), xticks=[-4,0,4], yticks=[-4,0,4])\n",
    "plt.savefig(f'{utils.DIR_FIGURE}/fig6e_left.pdf',bbox_inches='tight')\n",
    "plt.show()"
   ]
  },
  {
   "cell_type": "code",
   "execution_count": 23,
   "metadata": {},
   "outputs": [
    {
     "data": {
      "image/png": "[encoded data removed]",
      "text/plain": [
       "<Figure size 139.355x286.093 with 1 Axes>"
      ]
     },
     "metadata": {
      "needs_background": "light"
     },
     "output_type": "display_data"
    }
   ],
   "source": [
    "plt.figure()\n",
    "ax = plt.gca()\n",
    "utils.set_size([1.5,3])\n",
    "\n",
    "plt.axhline(y=0, linestyle='dotted', color='k', linewidth=2)\n",
    "plt.hist(d_bpost, bins=50, range=[-lim,lim], color='gray', \n",
    "         orientation='horizontal', density=True)\n",
    "\n",
    "plt.xlim([0,3])\n",
    "plt.ylim([-lim,lim])\n",
    "\n",
    "utils.draw_publish_axis(ax, xrange=(0,2.5), yrange=(-4,4), xticks=None, yticks=[-4,0,4])\n",
    "plt.savefig(f'{utils.DIR_FIGURE}/fig6e_right.pdf',bbox_inches='tight')\n",
    "plt.show()"
   ]
  },
  {
   "cell_type": "code",
   "execution_count": 24,
   "metadata": {},
   "outputs": [
    {
     "name": "stdout",
     "output_type": "stream",
     "text": [
      "d_bpost vs. 0\n",
      "\n",
      "One-sample t-test (two-sided)\n",
      "t(49)= -3.1813495492795347 p= 0.002544125655828158\n",
      "95% CI= (-0.15043934118912894, -0.03395945101932592)\n",
      "\n",
      "One-sample t-test (one-sided)\n",
      "t(49)= -3.1813495492795347 p= 0.001272062827914079\n",
      "\n",
      "Wilcoxon signed-rank test (without continuity correction)\n",
      "V= 262.0 p= 0.00028917828473891855\n"
     ]
    }
   ],
   "source": [
    "ttest  = DescrStatsW(d_bpost)\n",
    "wilcox = wilcoxon(d_bpost)\n",
    "print(\"d_bpost vs. 0\")\n",
    "print('\\nOne-sample t-test (two-sided)')\n",
    "print('t(49)=',  ttest.ttest_mean()[0], 'p=', ttest.ttest_mean()[1])\n",
    "print('95% CI=', ttest.tconfint_mean())\n",
    "print('\\nOne-sample t-test (one-sided)')\n",
    "if ttest.ttest_mean()[0] < 0:\n",
    "    p_val = ttest.ttest_mean()[1]/2\n",
    "else:\n",
    "    p_val = (1.-ttest.ttest_mean()[1])/2\n",
    "print('t(49)=',  ttest.ttest_mean()[0], 'p=', p_val)\n",
    "print('\\nWilcoxon signed-rank test (without continuity correction)')\n",
    "print('V=', wilcox[0], 'p=', wilcox[1])"
   ]
  },
  {
   "attachments": {},
   "cell_type": "markdown",
   "metadata": {},
   "source": [
    "---\n",
    "## DDM: reduced model"
   ]
  },
  {
   "cell_type": "code",
   "execution_count": 25,
   "metadata": {},
   "outputs": [],
   "source": [
    "d_bpre  = dcb_ddm['bpre'][1,:,1]  - dcb_ddm['bpre'][1,:,0]\n",
    "d_bpost = dcb_ddm['bpost'][1,:,1] - dcb_ddm['bpost'][1,:,0]"
   ]
  },
  {
   "cell_type": "code",
   "execution_count": 26,
   "metadata": {},
   "outputs": [
    {
     "name": "stdout",
     "output_type": "stream",
     "text": [
      "Relation between d_bpre and d_bpost\n",
      "\n",
      "Linear regression\n",
      "Coefficient: 1.8133174491809603e-05\n",
      "p-value: 0.9860434909343216\n",
      "\n",
      "Correlation coefficient\n",
      "Pearson r= 0.0025380452252414393 p= 0.9860434909343215\n",
      "Pearson CI= (-0.27600465930594587, 0.28068746953724016)\n",
      "Spearman rho= 0.02665066026410564 p= 0.8542372197436356\n",
      "SpearmanrResult(correlation=0.02665066026410564, pvalue=0.8542372197436356)\n"
     ]
    }
   ],
   "source": [
    "X = np.array([d_bpre]).T\n",
    "y = np.array([d_bpost]).T\n",
    "X2 = sm.add_constant(X)\n",
    "est = sm.OLS(y, X2)\n",
    "est2 = est.fit()\n",
    "\n",
    "spear = spearmanr(d_bpre,d_bpost)\n",
    "pears = pearsonr(d_bpre,d_bpost)\n",
    "pears_CI = utils.pearson_CI(d_bpre,d_bpost)\n",
    "print('Relation between d_bpre and d_bpost')\n",
    "print('\\nLinear regression')\n",
    "print(f'Coefficient: {est2.params[-1]}')\n",
    "print(f'p-value: {est2.pvalues[-1]}')\n",
    "print('\\nCorrelation coefficient')\n",
    "print('Pearson r=', pears[0], 'p=', pears[1])\n",
    "print('Pearson CI=', pears_CI)\n",
    "print('Spearman rho=', spear.correlation, 'p=', spear.pvalue)\n",
    "print(spearmanr(d_bpre,d_bpost))"
   ]
  },
  {
   "cell_type": "code",
   "execution_count": 27,
   "metadata": {},
   "outputs": [
    {
     "data": {
      "image/png": "[encoded data removed]",
      "text/plain": [
       "<Figure size 278.71x286.093 with 1 Axes>"
      ]
     },
     "metadata": {
      "needs_background": "light"
     },
     "output_type": "display_data"
    }
   ],
   "source": [
    "lim = 5\n",
    "plt.figure()\n",
    "ax = plt.gca()\n",
    "utils.set_size([3,3])\n",
    "\n",
    "plt.axvline(x=0, linestyle='dotted', color='gray', linewidth=0.6)\n",
    "plt.axhline(y=0, linestyle='dotted', color='gray', linewidth=0.6)\n",
    "plt.scatter(d_bpre, d_bpost, color='darkblue', alpha=0.5, s=50)\n",
    "\n",
    "x_line  = np.linspace(-lim,lim,100)\n",
    "x_mean  = np.mean(d_bpre)\n",
    "se_line = est2.scale * (1/50 + (x_line-x_mean)**2/np.sum((d_bpre-x_mean)**2))\n",
    "se_line = se_line**0.5\n",
    "y_line = est2.params[0] + x_line * est2.params[1]\n",
    "plt.plot(x_line, y_line, color='darkblue', linewidth=1.1)\n",
    "plt.fill_between(x_line, y_line-se_line, y_line+se_line, color='darkblue', alpha=0.1, linewidth=0, zorder=-3)\n",
    "\n",
    "plt.xlim([-lim,lim])\n",
    "plt.ylim([-lim,lim])\n",
    "\n",
    "utils.draw_publish_axis(ax, xrange=(-4,4), yrange=(-4,4), xticks=[-4,0,4], yticks=[-4,0,4])\n",
    "plt.savefig(f'{utils.DIR_FIGURE}/fig6f_left.pdf',bbox_inches='tight')\n",
    "plt.show()"
   ]
  },
  {
   "cell_type": "code",
   "execution_count": 28,
   "metadata": {},
   "outputs": [
    {
     "data": {
      "image/png": "[encoded data removed]",
      "text/plain": [
       "<Figure size 139.355x286.093 with 1 Axes>"
      ]
     },
     "metadata": {
      "needs_background": "light"
     },
     "output_type": "display_data"
    }
   ],
   "source": [
    "plt.figure()\n",
    "ax = plt.gca()\n",
    "utils.set_size([1.5,3])\n",
    "\n",
    "plt.axhline(y=0, linestyle='dotted', color='k', linewidth=2)\n",
    "plt.hist(d_bpost, bins=50, range=[-lim,lim], color='gray', \n",
    "         orientation='horizontal', density=True)\n",
    "\n",
    "plt.xlim([0,3])\n",
    "plt.ylim([-lim,lim])\n",
    "\n",
    "utils.draw_publish_axis(ax, xrange=(0,2.5), yrange=(-4,4), xticks=None, yticks=[-4,0,4])\n",
    "plt.savefig(f'{utils.DIR_FIGURE}/fig6f_right.pdf',bbox_inches='tight')\n",
    "plt.show()"
   ]
  },
  {
   "cell_type": "code",
   "execution_count": 29,
   "metadata": {},
   "outputs": [
    {
     "name": "stdout",
     "output_type": "stream",
     "text": [
      "d_bpost vs. 0\n",
      "\n",
      "One-sample t-test (two-sided)\n",
      "t(49)= -0.591872091922898 p= 0.5566574047675084\n",
      "95% CI= (-0.0012732456605108967, 0.0006938769645029764)\n",
      "\n",
      "One-sample t-test (one-sided)\n",
      "t(49)= -0.591872091922898 p= 0.2783287023837542\n",
      "\n",
      "Wilcoxon signed-rank test (without continuity correction)\n",
      "V= 542.0 p= 0.35658693993847124\n"
     ]
    }
   ],
   "source": [
    "ttest  = DescrStatsW(d_bpost)\n",
    "wilcox = wilcoxon(d_bpost)\n",
    "print(\"d_bpost vs. 0\")\n",
    "print('\\nOne-sample t-test (two-sided)')\n",
    "print('t(49)=',  ttest.ttest_mean()[0], 'p=', ttest.ttest_mean()[1])\n",
    "print('95% CI=', ttest.tconfint_mean())\n",
    "print('\\nOne-sample t-test (one-sided)')\n",
    "if ttest.ttest_mean()[0] < 0:\n",
    "    p_val = ttest.ttest_mean()[1]/2\n",
    "else:\n",
    "    p_val = (1.-ttest.ttest_mean()[1])/2\n",
    "print('t(49)=',  ttest.ttest_mean()[0], 'p=', p_val)\n",
    "print('\\nWilcoxon signed-rank test (without continuity correction)')\n",
    "print('V=', wilcox[0], 'p=', wilcox[1])"
   ]
  }
 ],
 "metadata": {
  "kernelspec": {
   "display_name": "Python 3",
   "language": "python",
   "name": "python3"
  },
  "language_info": {
   "codemirror_mode": {
    "name": "ipython",
    "version": 3
   },
   "file_extension": ".py",
   "mimetype": "text/x-python",
   "name": "python",
   "nbconvert_exporter": "python",
   "pygments_lexer": "ipython3",
   "version": "3.7.7"
  }
 },
 "nbformat": 4,
 "nbformat_minor": 4
}
