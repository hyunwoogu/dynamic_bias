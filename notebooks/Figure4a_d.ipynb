{
 "cells": [
  {
   "attachments": {},
   "cell_type": "markdown",
   "metadata": {},
   "source": [
    "# Growth of decision-consistent and stimulus-specific biases"
   ]
  },
  {
   "cell_type": "code",
   "execution_count": 1,
   "metadata": {},
   "outputs": [],
   "source": [
    "import sys\n",
    "import pickle\n",
    "\n",
    "import numpy as np\n",
    "import pandas as pd\n",
    "import matplotlib.pyplot as plt\n",
    "from scipy.stats import wilcoxon\n",
    "from statsmodels.stats.weightstats import DescrStatsW\n",
    "\n",
    "sys.path.append('..')\n",
    "from src import utils\n",
    "utils.setup_matplotlib()"
   ]
  },
  {
   "cell_type": "code",
   "execution_count": 2,
   "metadata": {},
   "outputs": [
    {
     "name": "stdout",
     "output_type": "stream",
     "text": [
      "downloading data/processed/behavior...\n",
      "data/processed/behavior already exists. Skipping download...\n",
      "downloading data/outputs/behavior...\n",
      "data/outputs/behavior already exists. Skipping download...\n"
     ]
    }
   ],
   "source": [
    "utils.download_dataset(\"data/processed/behavior\")\n",
    "utils.download_dataset(\"data/outputs/behavior\")\n",
    "\n",
    "with open(\"../data/outputs/behavior/results_stimulus_specific_bias_weight.pickle\", 'rb') as f:\n",
    "    ssb_weight = pickle.load(f)\n",
    "with open(\"../data/outputs/behavior/bootstrap_stimulus_specific_bias.pickle\", 'rb') as f:\n",
    "    ssb_boot = pickle.load(f)\n",
    "\n",
    "behavior = pd.read_csv(\"../data/processed/behavior/behavior.csv\")\n",
    "behavior = behavior[(~np.isnan(behavior['choice'])) & (~np.isnan(behavior['error']))]"
   ]
  },
  {
   "attachments": {},
   "cell_type": "markdown",
   "metadata": {},
   "source": [
    "---\n",
    "\n",
    "## Decision-consistent bias"
   ]
  },
  {
   "cell_type": "code",
   "execution_count": 3,
   "metadata": {},
   "outputs": [],
   "source": [
    "%%capture\n",
    "id_list  = np.unique(behavior.ID)\n",
    "dcb_list = np.nan*np.empty((2,5,2,len(id_list)))\n",
    "for i_id, v_id in enumerate(id_list): \n",
    "    for i_t, v_t in enumerate([1,2]):\n",
    "        for i_r, v_r in enumerate([-21,-4,0,4,21]): \n",
    "            idx = (behavior.Timing==v_t) & (behavior.ID==v_id) & (behavior.ref== -v_r)\n",
    "            dcb_list[i_t,i_r,0,i_id] = utils.circmean(behavior.error[idx&(behavior.choice==2)])\n",
    "            dcb_list[i_t,i_r,1,i_id] = utils.circmean(behavior.error[idx&(behavior.choice==1)])\n",
    "\n",
    "dcb_list[:,0,1] = np.nan # omit the 'lapse' (Far incorrect) conditions for visualization\n",
    "dcb_list[:,4,0] = np.nan # omit the 'lapse' (Far incorrect) conditions for visualization\n",
    "m_dcb_list = np.nanmedian(dcb_list,axis=-1)\n",
    "s_dcb_list = np.nanstd(dcb_list,axis=-1)/np.sqrt(50) * 1.96"
   ]
  },
  {
   "cell_type": "code",
   "execution_count": 4,
   "metadata": {},
   "outputs": [
    {
     "data": {
      "image/png": "[encoded data removed]",
      "text/plain": [
       "<Figure size 371.613x286.093 with 1 Axes>"
      ]
     },
     "metadata": {
      "needs_background": "light"
     },
     "output_type": "display_data"
    }
   ],
   "source": [
    "plt.figure()\n",
    "ax = plt.gca()\n",
    "utils.set_size([4,3])\n",
    "\n",
    "devi = 0.1\n",
    "plt.axhline(y=0,  linestyle='dotted', color='gray', linewidth=1.)\n",
    "\n",
    "# Early\n",
    "plt.scatter(np.array([-2,-1,0,1,2])-devi, (m_dcb_list)[0,:,1], color='darkred')\n",
    "plt.vlines( np.array([-2,-1,0,1,2])-devi, (m_dcb_list-s_dcb_list)[0,:,1], (m_dcb_list+s_dcb_list)[0,:,1], color='darkred')\n",
    "\n",
    "for i_r, v_r in enumerate([-2,-1,0,1,2]):    \n",
    "    plt.scatter( np.array([v_r]*50)-devi+ np.random.uniform(-devi/2,devi/2,size=50), \n",
    "                dcb_list[0,i_r,1,:], color='darkred', alpha=0.11, linewidth=0, s=10, zorder=0)\n",
    "\n",
    "plt.scatter(np.array([-2,-1,0,1,2])-devi, (m_dcb_list)[0,:,0], color='darkblue')\n",
    "plt.vlines( np.array([-2,-1,0,1,2])-devi, (m_dcb_list-s_dcb_list)[0,:,0], (m_dcb_list+s_dcb_list)[0,:,0], color='darkblue')\n",
    "for i_r, v_r in enumerate([-2,-1,0,1,2]):    \n",
    "    plt.scatter( np.array([v_r]*50)-devi+ np.random.uniform(-devi/2,devi/2,size=50), \n",
    "                dcb_list[0,i_r,0,:], color='darkblue', alpha=0.11, linewidth=0, s=10, zorder=0)\n",
    "\n",
    "# Late\n",
    "plt.scatter(np.array([-2,-1,0,1,2])+devi, (m_dcb_list)[1,:,1], color='red')\n",
    "plt.vlines( np.array([-2,-1,0,1,2])+devi, (m_dcb_list-s_dcb_list)[1,:,1], (m_dcb_list+s_dcb_list)[1,:,1], color='red')\n",
    "for i_r, v_r in enumerate([-2,-1,0,1,2]):    \n",
    "    plt.scatter( np.array([v_r]*50)+devi+ np.random.uniform(-devi/2,devi/2,size=50), \n",
    "                dcb_list[1,i_r,1,:], color='red', alpha=0.11, linewidth=0, s=10, zorder=0)\n",
    "\n",
    "plt.scatter(np.array([-2,-1,0,1,2])+devi, (m_dcb_list)[1,:,0], color='blue')\n",
    "plt.vlines( np.array([-2,-1,0,1,2])+devi, (m_dcb_list-s_dcb_list)[1,:,0], (m_dcb_list+s_dcb_list)[1,:,0], color='blue')\n",
    "for i_r, v_r in enumerate([-2,-1,0,1,2]):    \n",
    "    plt.scatter( np.array([v_r]*50)+devi+ np.random.uniform(-devi/2,devi/2,size=50), \n",
    "                dcb_list[1,i_r,0,:], color='blue', alpha=0.11, linewidth=0, s=10, zorder=0)\n",
    "plt.ylim([-19,19])\n",
    "    \n",
    "if utils.LABEL:\n",
    "    plt.xlabel(r\"Stimulus - Reference $(\\!\\!^\\circ\\!\\!)$\")    \n",
    "    plt.ylabel(r\"Estimation error $(\\!\\!^\\circ\\!\\!)$\")    \n",
    "\n",
    "plt.xticks([-2,-1,0,1,2],[-21,-4,0,4,21])\n",
    "utils.draw_publish_axis(ax, xrange=(-2,2), yrange=(-15,15), xticks=None, yticks=[-15,0,15])\n",
    "plt.savefig(f'{utils.DIR_FIGURE}/fig4a.pdf',bbox_inches='tight')\n",
    "plt.show()"
   ]
  },
  {
   "cell_type": "code",
   "execution_count": 5,
   "metadata": {},
   "outputs": [],
   "source": [
    "dces_e = np.nan * np.zeros([len(id_list),2]) # EL\n",
    "dces   = np.nan * np.zeros([len(id_list),2,2]) # EL, C/CW\n",
    "\n",
    "for i_id, v_id in enumerate(id_list):\n",
    "    sub_df = behavior[behavior.ID == v_id]\n",
    "    _evi   = -sub_df.ref.to_numpy()\n",
    "    _dm    = 2.-sub_df.choice.to_numpy()\n",
    "    _stim  = sub_df.stim.to_numpy()\n",
    "    _time  = sub_df.Timing.to_numpy()\n",
    "    _err   = sub_df.error.to_numpy()\n",
    "    \n",
    "    for i_t, v_t in enumerate([1,2]):\n",
    "        idx = (_time==v_t) & (np.abs(_evi)<5)\n",
    "        dces_e[i_id,i_t] = utils.circmean(_err[idx] * (2*_dm[idx]-1))\n",
    "        dces[i_id,i_t,0] = utils.circmean(_err[idx&(_dm==1)])\n",
    "        dces[i_id,i_t,1] = utils.circmean(_err[idx&(_dm==0)])"
   ]
  },
  {
   "cell_type": "code",
   "execution_count": 6,
   "metadata": {},
   "outputs": [],
   "source": [
    "v_Ecw  = dces[:,0,0]\n",
    "v_Eccw = dces[:,0,1]\n",
    "v_Lcw  = dces[:,1,0]\n",
    "v_Lccw = dces[:,1,1]\n",
    "\n",
    "ms_cw  = [np.mean(v_Ecw), np.mean(v_Lcw)]\n",
    "ss_cw  = [np.std(v_Ecw)/np.sqrt(50), np.std(v_Lcw)/np.sqrt(50)]\n",
    "ms_ccw = [np.mean(v_Eccw), np.mean(v_Lccw)]\n",
    "ss_ccw = [np.std(v_Eccw)/np.sqrt(50), np.std(v_Lccw)/np.sqrt(50)]\n"
   ]
  },
  {
   "cell_type": "code",
   "execution_count": 7,
   "metadata": {},
   "outputs": [
    {
     "data": {
      "image/png": "[encoded data removed]",
      "text/plain": [
       "<Figure size 130.065x238.411 with 1 Axes>"
      ]
     },
     "metadata": {
      "needs_background": "light"
     },
     "output_type": "display_data"
    }
   ],
   "source": [
    "plt.figure()\n",
    "ax = plt.gca()\n",
    "utils.set_size([1.4,2.5])\n",
    "\n",
    "plt.plot([-1,1.5], [ms_cw[0], ms_cw[-1]],   color='red', zorder=0)\n",
    "plt.plot([-1,1.5], [ms_ccw[0], ms_ccw[-1]], color='blue', zorder=0)\n",
    "\n",
    "plt.axhline(y=0,  linestyle='dotted', color='gray', linewidth=1.)\n",
    "\n",
    "plt.errorbar(x=[-1], y=ms_cw[0], yerr=ss_cw[0], fmt=\"none\", color=\"darkred\")\n",
    "plt.errorbar(x=[1.5], y=ms_cw[-1], yerr=ss_cw[-1], fmt=\"none\", color=\"red\")\n",
    "plt.scatter(x=[-1,1.5], y=ms_cw, color=[\"darkred\", \"red\"], s=60)\n",
    "for i in range(50):\n",
    "    plt.plot([-1,1.5], [v_Ecw[i],v_Lcw[i]], color='red', alpha=0.08)\n",
    "\n",
    "plt.scatter(x=[-1,1.5], y=ms_ccw, color=[\"darkblue\", \"blue\"], s=60)\n",
    "plt.errorbar(x=[-1], y=ms_ccw[0], yerr=ss_ccw[0], fmt=\"none\", color=\"darkblue\")\n",
    "plt.errorbar(x=[1.5], y=ms_ccw[-1], yerr=ss_ccw[-1], fmt=\"none\", color=\"blue\")\n",
    "for i in range(50):\n",
    "    plt.plot([-1,1.5], [v_Eccw[i],v_Lccw[i]], color='blue', alpha=0.08)  \n",
    "\n",
    "plt.xlim([-2,2.5])\n",
    "plt.ylim([-15,15])\n",
    "    \n",
    "if utils.LABEL:\n",
    "    plt.ylabel(r\"Estimation error $(\\!\\!^\\circ\\!\\!)$\")    \n",
    "    plt.xticks([-1,1.5], ['Early', 'Late'])\n",
    "\n",
    "else:\n",
    "    plt.xticks([-1,1.5], ['', ''])\n",
    "\n",
    "utils.draw_publish_axis(ax, xrange=(-1,1.5), yrange=(-10,10), xticks=None, yticks=[-10,0,10])\n",
    "plt.savefig(f'{utils.DIR_FIGURE}/fig4b.pdf', bbox_inches='tight')\n",
    "plt.show()"
   ]
  },
  {
   "cell_type": "code",
   "execution_count": 8,
   "metadata": {},
   "outputs": [
    {
     "name": "stdout",
     "output_type": "stream",
     "text": [
      "Decision-consistent bias: Early vs. Late\n",
      "\n",
      "Paired samples t-test\n",
      "t(49)= 2.9290381940376546 p= 0.005148292958772938\n",
      "95% CI= (0.20351036171494996, 1.0930935224442342)\n",
      "\n",
      "Wilcoxon signed-rank test (without continuity correction)\n",
      "V= 320.0 p= 0.002177311550955709\n"
     ]
    }
   ],
   "source": [
    "ttest  = DescrStatsW(dces_e[:,1]-dces_e[:,0])\n",
    "wilcox = wilcoxon(dces_e[:,1]-dces_e[:,0])\n",
    "print(\"Decision-consistent bias: Early vs. Late\")\n",
    "print('\\nPaired samples t-test')\n",
    "print('t(49)=',  ttest.ttest_mean()[0], 'p=', ttest.ttest_mean()[1])\n",
    "print('95% CI=', ttest.tconfint_mean())\n",
    "print('\\nWilcoxon signed-rank test (without continuity correction)')\n",
    "print('V=', wilcox[0], 'p=', wilcox[1])"
   ]
  },
  {
   "attachments": {},
   "cell_type": "markdown",
   "metadata": {},
   "source": [
    "---\n",
    "\n",
    "## Stimulus-specific bias"
   ]
  },
  {
   "cell_type": "code",
   "execution_count": 9,
   "metadata": {},
   "outputs": [],
   "source": [
    "stims = np.linspace(0,180,num=24,endpoint=False)\n",
    "mE = -np.mean(ssb_boot[:,0],axis=-1)\n",
    "sE = np.std(ssb_boot[:,0],axis=-1)\n",
    "mL = -np.mean(ssb_boot[:,1],axis=-1)\n",
    "sL = np.std(ssb_boot[:,1],axis=-1)"
   ]
  },
  {
   "cell_type": "code",
   "execution_count": 10,
   "metadata": {},
   "outputs": [
    {
     "data": {
      "image/png": "[encoded data removed]",
      "text/plain": [
       "<Figure size 371.613x286.093 with 1 Axes>"
      ]
     },
     "metadata": {
      "needs_background": "light"
     },
     "output_type": "display_data"
    }
   ],
   "source": [
    "plt.figure()\n",
    "ax = plt.gca()\n",
    "utils.set_size([4,3])\n",
    "\n",
    "plt.plot(stims, mE, color='#33638D',linewidth=4.)\n",
    "plt.plot(stims, mL, color='#29AF7F',linewidth=4.)\n",
    "\n",
    "plt.axvline(x=90, linestyle='dotted', color='gray', linewidth=1.)\n",
    "plt.axhline(y=0,  linestyle='dotted', color='gray', linewidth=1.)\n",
    "plt.fill_between(x=stims, y1=mE-sE, y2=mE+sE, color='#33638D', alpha=0.3, edgecolor=\"none\", linewidth=0)\n",
    "plt.fill_between(x=stims, y1=mL-sL, y2=mL+sL, color='#29AF7F', alpha=0.3, edgecolor=\"none\", linewidth=0)\n",
    "\n",
    "plt.ylim([-15,15])\n",
    "\n",
    "if utils.LABEL:\n",
    "    plt.xlabel(r\"Stimulus $(\\!\\!^\\circ\\!\\!)$\")    \n",
    "    plt.ylabel(r\"Bias at $t_\\mathrm{DM}$ $(\\!\\!^\\circ\\!\\!)$\")\n",
    "\n",
    "utils.draw_publish_axis(ax, xrange=(0,172.5), yrange=(-10,10), xticks=[0,45,90,135], yticks=[-10,0,10])\n",
    "plt.savefig(f'{utils.DIR_FIGURE}/fig4c.pdf')\n",
    "plt.show()"
   ]
  },
  {
   "cell_type": "code",
   "execution_count": 11,
   "metadata": {},
   "outputs": [
    {
     "data": {
      "image/png": "[encoded data removed]",
      "text/plain": [
       "<Figure size 130.065x238.411 with 1 Axes>"
      ]
     },
     "metadata": {
      "needs_background": "light"
     },
     "output_type": "display_data"
    }
   ],
   "source": [
    "v_E = ssb_weight[:,0]\n",
    "v_L = ssb_weight[:,1]\n",
    "\n",
    "ms = [np.mean(v_E), np.mean(v_L)]\n",
    "ss = [np.std(v_E)/np.sqrt(50), np.std(v_L)/np.sqrt(50)]\n",
    "\n",
    "plt.figure()\n",
    "ax = plt.gca()\n",
    "utils.set_size([1.4,2.5])\n",
    "\n",
    "for i in range(50):\n",
    "    plt.plot([-1,1.5], [v_E[i],v_L[i]], color='gray', alpha=0.09)\n",
    "    \n",
    "bar = plt.bar(x=[-1,1.5], height=ms, color=[\"#33638D\", \"#29AF7F\"])\n",
    "bar[0].set_edgecolor('#33638D')\n",
    "bar[1].set_edgecolor('#29AF7F')\n",
    "bar[0].set_linewidth(3)\n",
    "bar[1].set_linewidth(3)\n",
    "plt.errorbar(x=[-1,1.5], y=ms, yerr=ss, fmt=\"none\", color=\"k\")\n",
    "\n",
    "plt.xlim([-2.5,3])\n",
    "plt.ylim([-0.1,2])\n",
    "\n",
    "ax.hlines(y=1, xmin=-1.5, xmax=2, linestyle='dotted', color='green', linewidth=2.)\n",
    "\n",
    "if utils.LABEL:\n",
    "    plt.ylabel(r\"Bias weight\", labelpad=10)\n",
    "    plt.xticks([-1,1.5], ['Early', 'Late'])\n",
    "else:\n",
    "    plt.xticks([-1,1.5], ['', ''])\n",
    "utils.draw_publish_axis(ax, xrange=(-1,1.5), yrange=(0,2), xticks=None, yticks=[0,1,2])\n",
    "plt.savefig(f'{utils.DIR_FIGURE}/fig4d.pdf')\n",
    "plt.show()"
   ]
  },
  {
   "cell_type": "code",
   "execution_count": 12,
   "metadata": {},
   "outputs": [
    {
     "name": "stdout",
     "output_type": "stream",
     "text": [
      "Bias weight: Early vs. Late\n",
      "\n",
      "Paired samples t-test\n",
      "t(49)= 3.2439943624220255 p= 0.002125588822461477\n",
      "95% CI= (0.06968141602816286, 0.2965574337205209)\n",
      "\n",
      "Wilcoxon signed-rank test (without continuity correction)\n",
      "V= 320.0 p= 0.002177311550955709\n"
     ]
    }
   ],
   "source": [
    "ttest  = DescrStatsW(v_L-v_E)\n",
    "wilcox = wilcoxon(v_L-v_E)\n",
    "print(\"Bias weight: Early vs. Late\")\n",
    "print('\\nPaired samples t-test')\n",
    "print('t(49)=',  ttest.ttest_mean()[0], 'p=', ttest.ttest_mean()[1])\n",
    "print('95% CI=', ttest.tconfint_mean())\n",
    "print('\\nWilcoxon signed-rank test (without continuity correction)')\n",
    "print('V=', wilcox[0], 'p=', wilcox[1])"
   ]
  }
 ],
 "metadata": {
  "kernelspec": {
   "display_name": "base",
   "language": "python",
   "name": "python3"
  },
  "language_info": {
   "codemirror_mode": {
    "name": "ipython",
    "version": 3
   },
   "file_extension": ".py",
   "mimetype": "text/x-python",
   "name": "python",
   "nbconvert_exporter": "python",
   "pygments_lexer": "ipython3",
   "version": "3.7.7"
  },
  "vscode": {
   "interpreter": {
    "hash": "53bf54f225a5a941142385013cb28e6a12d053081e552d7a8c014f448f1f974b"
   }
  }
 },
 "nbformat": 4,
 "nbformat_minor": 4
}
