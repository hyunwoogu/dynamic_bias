{
 "cells": [
  {
   "attachments": {},
   "cell_type": "markdown",
   "metadata": {},
   "source": [
    "# Growth of decision-consistent and stimulus-specific biases"
   ]
  },
  {
   "cell_type": "code",
   "execution_count": 1,
   "metadata": {},
   "outputs": [],
   "source": [
    "import os\n",
    "import sys\n",
    "import pickle\n",
    "\n",
    "import numpy as np\n",
    "import matplotlib.pyplot as plt\n",
    "from scipy.stats import wilcoxon\n",
    "from statsmodels.stats.weightstats import DescrStatsW\n",
    "\n",
    "from sklearn.linear_model import LinearRegression\n",
    "from scipy.linalg import expm\n",
    "\n",
    "sys.path.append('..')\n",
    "from src import utils\n",
    "utils.setup_matplotlib()"
   ]
  },
  {
   "cell_type": "code",
   "execution_count": 2,
   "metadata": {},
   "outputs": [
    {
     "name": "stdout",
     "output_type": "stream",
     "text": [
      "downloading data/outputs/behavior...\n",
      "data/outputs/behavior already exists. Skipping download...\n"
     ]
    }
   ],
   "source": [
    "utils.download_dataset(\"data/outputs/behavior\")\n",
    "\n",
    "with open(\"../data/outputs/behavior/results_stimulus_specific_bias.pickle\", 'rb') as f:\n",
    "    results = pickle.load(f)"
   ]
  },
  {
   "cell_type": "code",
   "execution_count": 3,
   "metadata": {},
   "outputs": [],
   "source": [
    "from src.model_ddm import model\n",
    "sys.modules['model'] = model\n",
    "model_path = '../models/ddm/'"
   ]
  },
  {
   "cell_type": "code",
   "execution_count": 4,
   "metadata": {},
   "outputs": [],
   "source": [
    "models_full = {}\n",
    "models_rdcd = {}\n",
    "\n",
    "# full model\n",
    "files  = sorted([f for f in os.listdir(model_path+'full') if ('.pkl' in f)])\n",
    "for v_f in files:\n",
    "    with open(model_path+'full/'+v_f, 'rb') as f:\n",
    "        models_full[v_f[17:21]] = pickle.load(f)\n",
    "    \n",
    "# reduced model\n",
    "files  = sorted([f for f in os.listdir(model_path+'reduced') if ('.pkl' in f)])\n",
    "for v_f in files:\n",
    "    with open(model_path+'reduced/'+v_f, 'rb') as f:\n",
    "        models_rdcd[v_f[17:21]] = pickle.load(f)"
   ]
  },
  {
   "cell_type": "code",
   "execution_count": 5,
   "metadata": {},
   "outputs": [],
   "source": [
    "def forward(model, params, data):\n",
    "    # parameters\n",
    "    if model.model == 'full':    \n",
    "        w_K = params[0]*np.pi/90.\n",
    "    w_E, w_P, w_D, w_r, w_b = [p*np.pi/90. for p in params[(-7):(-2)]]\n",
    "    lam, c = params[(-2):]\n",
    "\n",
    "    # efficient encoding \n",
    "    kappa = model.kappa\n",
    "    p,F = model.efficient_encoding(c)\n",
    "    p_e = np.sqrt(1./np.clip(w_E,model.eps,None))\n",
    "    F_interp = model.F_interp(F)\n",
    "    P0  = np.exp(p_e*(np.cos((F.reshape(-1,1)-F_interp(data['stim'])))-1.))    \n",
    "    P0  = P0*p.reshape(-1,1)\n",
    "    P0 /= P0.sum(axis=0,keepdims=True)\n",
    "    \n",
    "    # transition matrices\n",
    "    Lp = model.Hdiffu/2.*np.power(w_P,2) # production transition\n",
    "    if model.model == 'reduced':    \n",
    "        L = model.Hdiffu/2.*np.power(w_D,2)\n",
    "    elif model.model == 'full':\n",
    "        L = model.Hdiffu/2.*np.power(w_D,2) - model.Hdrift@np.diag(kappa*w_K)\n",
    "\n",
    "    # density propagation\n",
    "    P  = [np.zeros_like(P0)*np.nan, np.zeros_like(P0)*np.nan] # CW, CCW\n",
    "    PE = [np.zeros_like(P0) * np.nan, np.zeros_like(P0) * np.nan] \n",
    "    PL = [np.zeros_like(P0) * np.nan, np.zeros_like(P0) * np.nan]\n",
    "    L1 = [L*model.delay[0][0], L*model.delay[0][1]] # 1st delay transitions for Early and Late conditions\n",
    "    L2 = [L*model.delay[1][0], L*model.delay[1][1]] # 2nd delay transitions for Early and Late conditions\n",
    "\n",
    "    for i_delay, delay in enumerate(model.delay_condition):\n",
    "        _P      = expm(L1[i_delay]) @ P0\n",
    "        _P_cw   = (1.-lam) * model.mask_cw * _P + lam * model.mask_ccw * _P\n",
    "        _P_ccw  = lam * model.mask_cw * _P + (1.-lam) * model.mask_ccw * _P\n",
    "        for r in model.relative_reference:\n",
    "            idx = (data['delay']==delay) & (data['relref']==r)\n",
    "            P[0][:, idx] = expm(Lp) @ expm(L2[i_delay]) @ expm(model.Hdrift*(-w_b*(np.abs(r)<model.near_cutoff)-r*w_r)) @ _P_cw[:,idx]\n",
    "            P[1][:, idx] = expm(Lp) @ expm(L2[i_delay]) @ expm(model.Hdrift*( w_b*(np.abs(r)<model.near_cutoff)-r*w_r)) @ _P_ccw[:,idx]\n",
    "               \n",
    "            if delay == 1:\n",
    "                PE[0][:,idx] = _P_cw[:,idx]\n",
    "                PE[1][:,idx] = _P_ccw[:,idx]\n",
    "            if delay == 2:\n",
    "                PL[0][:,idx] = _P_cw[:,idx]\n",
    "                PL[1][:,idx] = _P_ccw[:,idx]\n",
    "\n",
    "    # Make nonnegative\n",
    "    P[0][P[0]<0] = 0.; P[1][P[1]<0] = 0.\n",
    "    PE[0][PE[0]<0] = 0.; PE[1][PE[1]<0] = 0.\n",
    "    PL[0][PL[0]<0] = 0.; PL[1][PL[1]<0] = 0.\n",
    "\n",
    "    # \n",
    "    sums  = (P[0]+P[1]).sum(axis=0,keepdims=True)\n",
    "    P[0] /= sums\n",
    "    P[1] /= sums\n",
    "    sums  = (PE[0]+PE[1]).sum(axis=0,keepdims=True)\n",
    "    PE[0] /= sums\n",
    "    PE[1] /= sums\n",
    "    sums  = (PL[0]+PL[1]).sum(axis=0,keepdims=True)\n",
    "    PL[0] /= sums\n",
    "    PL[1] /= sums\n",
    "\n",
    "    return PE, PL, P"
   ]
  },
  {
   "cell_type": "code",
   "execution_count": 6,
   "metadata": {},
   "outputs": [],
   "source": [
    "# may take about 2mins\n",
    "bias_weights = np.zeros((2,50,2)) * np.nan\n",
    "dcb_res      = np.zeros((2,50,2,2)) * np.nan # E-L / CW-CCW\n",
    "dcb_ref_ref  = np.zeros((2,50,2,5,2)) * np.nan # E-L / CW-CCW\n",
    "bdms         = np.zeros((2,50,24,2)) * np.nan\n",
    "\n",
    "for i_models, models in enumerate([models_full, models_rdcd]):\n",
    "    for i_model, (n_model, model) in enumerate(models.items()):\n",
    "        # average densities over diffferent stimuli and choices\n",
    "        errsD = np.zeros((2,5,96,24,2)) * np.nan\n",
    "        errsE = np.zeros((2,5,96,24,2)) * np.nan\n",
    "\n",
    "        fitted_params = model.fitted_params.copy()\n",
    "        _stim = np.linspace(0,180,num=24,endpoint=False)\n",
    "\n",
    "        for i_d, v_d in enumerate([1,2]):\n",
    "            _delay  = np.ones(24) * v_d\n",
    "            for i_r, v_r in enumerate([-21,-4,0,4,21]):\n",
    "                _relref = np.repeat(v_r, 24)\n",
    "                _ref    = (_stim + v_r - 90.) % (180.) - 90.\n",
    "                _data   = {\n",
    "                    'deg' : {\n",
    "                        'stim': _stim,\n",
    "                        'ref' : _ref\n",
    "                    },\n",
    "                    'relref': _relref,\n",
    "                    'delay' : _delay\n",
    "                }\n",
    "                _data = model.convert_unit(_data)\n",
    "                model.gen_mask(_data)\n",
    "                PE, PL, P = forward(model, fitted_params, _data)\n",
    "                errsD[i_d,i_r,:,:,0] = np.stack([np.roll(p,-i*4) for i,p in enumerate([PE,PL][i_d][0].T)],axis=-1)\n",
    "                errsD[i_d,i_r,:,:,1] = np.stack([np.roll(p,-i*4) for i,p in enumerate([PE,PL][i_d][1].T)],axis=-1)\n",
    "                errsE[i_d,i_r,:,:,0] = np.stack([np.roll(p,-i*4) for i,p in enumerate(P[0].T)],axis=-1)\n",
    "                errsE[i_d,i_r,:,:,1] = np.stack([np.roll(p,-i*4) for i,p in enumerate(P[1].T)],axis=-1)\n",
    "\n",
    "        # make early and late decision-period biases\n",
    "        s = np.sin(model.m); c = np.cos(model.m)\n",
    "        s, c = [errsD.sum(axis=-1).mean(axis=1).transpose((0,2,1)) @ v for v in [s,c]]\n",
    "        b_dm = np.arctan2(s,c)\n",
    "        bdms[i_models,i_model,:,0] = b_dm[0]\n",
    "        bdms[i_models,i_model,:,1] = b_dm[1]\n",
    "\n",
    "        # make estimation period bias\n",
    "        s = np.sin(model.m); c = np.cos(model.m)\n",
    "        s, c = [errsE.sum(axis=-1).mean(axis=1).transpose((0,2,1)) @ v for v in [s,c]]\n",
    "        b_em = np.arctan2(s,c).mean(axis=0)\n",
    "\n",
    "        # calculate bias weights using intercept-free linear regression (unnormalized)\n",
    "        stims_vec = np.arange(180,step=7.5)\n",
    "        ssb  = utils.stimulus_specific_bias(stims_vec, results['weights'][int(n_model)], **results['info'])\n",
    "        ssb *= np.pi/90\n",
    "        bias_weights[i_models,i_model,0] = LinearRegression(fit_intercept=True).fit(ssb.reshape(-1,1),b_dm[0]).coef_[0]\n",
    "        bias_weights[i_models,i_model,1] = LinearRegression(fit_intercept=True).fit(ssb.reshape(-1,1),b_dm[1]).coef_[0]\n",
    "\n",
    "        # \n",
    "        s = np.sin(model.m)\n",
    "        c = np.cos(model.m)\n",
    "        s,c = [errsE[:,1:4].mean(axis=(1,3)).transpose((0,2,1)) @ k for k in [s,c]]\n",
    "        bb = np.arctan2(s,c)\n",
    "        dcb_res[i_models,i_model] = bb * 90/np.pi\n",
    "\n",
    "        # \n",
    "        s = np.sin(model.m)\n",
    "        c = np.cos(model.m)\n",
    "        s,c = [errsE[:,:].mean(axis=3).transpose((0,1,3,2)) @ k for k in [s,c]]\n",
    "        bb = np.arctan2(s,c) # [2,5,2]\n",
    "        dcb_ref_ref[i_models,i_model] = bb * 90/np.pi"
   ]
  },
  {
   "attachments": {},
   "cell_type": "markdown",
   "metadata": {},
   "source": [
    "---\n",
    "## Stimulus-specific bias "
   ]
  },
  {
   "cell_type": "code",
   "execution_count": 7,
   "metadata": {},
   "outputs": [
    {
     "name": "stdout",
     "output_type": "stream",
     "text": [
      "Full\n"
     ]
    },
    {
     "data": {
      "image/png": "[encoded data removed]",
      "text/plain": [
       "<Figure size 371.613x286.093 with 1 Axes>"
      ]
     },
     "metadata": {
      "needs_background": "light"
     },
     "output_type": "display_data"
    },
    {
     "name": "stdout",
     "output_type": "stream",
     "text": [
      "Reduced\n"
     ]
    },
    {
     "data": {
      "image/png": "[encoded data removed]",
      "text/plain": [
       "<Figure size 371.613x286.093 with 1 Axes>"
      ]
     },
     "metadata": {
      "needs_background": "light"
     },
     "output_type": "display_data"
    }
   ],
   "source": [
    "for i_model, v_model in enumerate(['Full', 'Reduced']):\n",
    "    print( v_model )\n",
    "    stims = np.arange(180,step=7.5)\n",
    "    mE, sE = np.mean(bdms[i_model,:,:,0]*90/np.pi,axis=0), np.std(bdms[i_model,:,:,0]*90/np.pi,axis=0)/np.sqrt(50)\n",
    "    mL, sL = np.mean(bdms[i_model,:,:,1]*90/np.pi,axis=0), np.std(bdms[i_model,:,:,1]*90/np.pi,axis=0)/np.sqrt(50)\n",
    "\n",
    "    plt.figure()\n",
    "    ax = plt.gca()\n",
    "    utils.set_size([4,3])\n",
    "\n",
    "    plt.plot(stims, mE, color='#33638D',linewidth=5.)\n",
    "    plt.plot(stims, mL, color='#29AF7F',linewidth=5.)\n",
    "\n",
    "    plt.axvline(x=90, linestyle='dotted', color='gray', linewidth=1.)\n",
    "    plt.axhline(y=0,  linestyle='dotted', color='gray', linewidth=1.)\n",
    "    plt.fill_between(x=stims, y1=mE-sE, y2=mE+sE, color='#33638D', alpha=0.3, edgecolor=\"none\")\n",
    "    plt.fill_between(x=stims, y1=mL-sL, y2=mL+sL, color='#29AF7F', alpha=0.3, edgecolor=\"none\")\n",
    "    plt.ylim([-15,15])\n",
    "\n",
    "    if utils.LABEL:\n",
    "        plt.xlabel(r\"Stimulus $(\\!\\!^\\circ\\!\\!)$\")    \n",
    "        plt.ylabel(r\"Bias at $t_\\mathrm{DM}$ $(\\!\\!^\\circ\\!\\!)$\")\n",
    "    fign = ['g','k'][i_model]\n",
    "    utils.draw_publish_axis(ax, xrange=(0,172.5), yrange=(-10,10), xticks=[0,45,90,135], yticks=[-10,0,10])\n",
    "    plt.savefig(f'{utils.DIR_FIGURE}/fig4{fign}.pdf', bbox_inches='tight')\n",
    "    plt.show()"
   ]
  },
  {
   "cell_type": "code",
   "execution_count": 8,
   "metadata": {},
   "outputs": [
    {
     "name": "stdout",
     "output_type": "stream",
     "text": [
      "Full\n",
      "Bias weight: Early vs. Late\n",
      "\n",
      "Paired samples t-test\n",
      "t(49)= 22.501391713619793 p= 1.7478305929567415e-27\n",
      "95% CI= (0.21204424293064425, 0.2536334167985058)\n",
      "\n",
      "Wilcoxon signed-rank test (without continuity correction)\n",
      "V= 0.0 p= 7.556929455863566e-10\n"
     ]
    },
    {
     "data": {
      "image/png": "[encoded data removed]",
      "text/plain": [
       "<Figure size 130.065x238.411 with 1 Axes>"
      ]
     },
     "metadata": {
      "needs_background": "light"
     },
     "output_type": "display_data"
    },
    {
     "name": "stdout",
     "output_type": "stream",
     "text": [
      "Reduced\n",
      "Bias weight: Early vs. Late\n",
      "\n",
      "Paired samples t-test\n",
      "t(49)= 1.0834714823027276 p= 0.2839019264435666\n",
      "95% CI= (-6.1367543643652044e-18, 2.0495833100389273e-17)\n",
      "\n",
      "Wilcoxon signed-rank test (without continuity correction)\n",
      "V= 119.0 p= 0.1512581946793469\n"
     ]
    },
    {
     "data": {
      "image/png": "[encoded data removed]",
      "text/plain": [
       "<Figure size 130.065x238.411 with 1 Axes>"
      ]
     },
     "metadata": {
      "needs_background": "light"
     },
     "output_type": "display_data"
    }
   ],
   "source": [
    "for i_model, v_model in enumerate(['Full', 'Reduced']):\n",
    "    print( v_model )\n",
    "\n",
    "    plt.figure()\n",
    "    ax = plt.gca()\n",
    "    utils.set_size([1.4,2.5])\n",
    "\n",
    "    v_E, v_L = bias_weights[i_model,:,0], bias_weights[i_model,:,1]\n",
    "    ms = [np.mean(v_E), np.mean(v_L)]\n",
    "    ss = [np.std(v_E)/np.sqrt(50), np.std(v_L)/np.sqrt(50)]\n",
    "    for i in range(50):\n",
    "        plt.plot([-1,1.5], [v_E[i],v_L[i]], color='gray', alpha=0.09)\n",
    "\n",
    "    bar = plt.bar(x=[-1,1.5], height=ms, color=[\"#33638D\", \"#29AF7F\"])\n",
    "    bar[0].set_edgecolor('#33638D')\n",
    "    bar[1].set_edgecolor('#29AF7F')\n",
    "    bar[0].set_linewidth(3)\n",
    "    bar[1].set_linewidth(3)\n",
    "    plt.errorbar(x=[-1,1.5], y=ms, yerr=ss, fmt=\"none\", color=\"k\")\n",
    "\n",
    "    plt.xlim([-2.5,3])\n",
    "    plt.ylim([-0.1,2])\n",
    "    plt.xticks([-1,1.5], ['Early', 'Late'])\n",
    "    ax.hlines(y=1, xmin=-1.5, xmax=2, linestyle='dotted', color='green', linewidth=2.)\n",
    "\n",
    "    if utils.LABEL:\n",
    "        plt.ylabel(r\"Bias weight\", labelpad=10)\n",
    "\n",
    "    ttest  = DescrStatsW(v_L-v_E)\n",
    "    wilcox = wilcoxon(v_L-v_E)\n",
    "    print(\"Bias weight: Early vs. Late\")\n",
    "    print('\\nPaired samples t-test')\n",
    "    print('t(49)=',  ttest.ttest_mean()[0], 'p=', ttest.ttest_mean()[1])\n",
    "    print('95% CI=', ttest.tconfint_mean())\n",
    "    print('\\nWilcoxon signed-rank test (without continuity correction)')\n",
    "    print('V=', wilcox[0], 'p=', wilcox[1])\n",
    "\n",
    "    plt.xticks([-1,1.5], ['', ''])\n",
    "    fign = ['h','l'][i_model]\n",
    "    utils.draw_publish_axis(ax, xrange=(-1,1.5), yrange=(0,2), xticks=None, yticks=[0,1,2])\n",
    "    plt.savefig(f'{utils.DIR_FIGURE}/fig4{fign}.pdf', bbox_inches='tight')\n",
    "    plt.show()"
   ]
  },
  {
   "attachments": {},
   "cell_type": "markdown",
   "metadata": {},
   "source": [
    "---\n",
    "## Decision-consistent bias "
   ]
  },
  {
   "cell_type": "code",
   "execution_count": 9,
   "metadata": {},
   "outputs": [
    {
     "name": "stdout",
     "output_type": "stream",
     "text": [
      "Full\n",
      "Decision-consistent bias: Early vs. Late\n",
      "\n",
      "Paired samples t-test\n",
      "t(49)= 11.601110786832512 p= 1.1607672771260918e-15\n",
      "95% CI= (1.3712953725521102, 1.9459106059131803)\n",
      "\n",
      "Wilcoxon signed-rank test (without continuity correction)\n",
      "V= 0.0 p= 7.556929455863566e-10\n"
     ]
    },
    {
     "data": {
      "image/png": "[encoded data removed]",
      "text/plain": [
       "<Figure size 130.065x238.411 with 1 Axes>"
      ]
     },
     "metadata": {
      "needs_background": "light"
     },
     "output_type": "display_data"
    },
    {
     "name": "stdout",
     "output_type": "stream",
     "text": [
      "Reduced\n",
      "Decision-consistent bias: Early vs. Late\n",
      "\n",
      "Paired samples t-test\n",
      "t(49)= 4.231854485285132 p= 0.00010126705863774305\n",
      "95% CI= (0.29902220403119817, 0.839825179686266)\n",
      "\n",
      "Wilcoxon signed-rank test (without continuity correction)\n",
      "V= 0.0 p= 0.00043777719457466354\n"
     ]
    },
    {
     "data": {
      "image/png": "[encoded data removed]",
      "text/plain": [
       "<Figure size 130.065x238.411 with 1 Axes>"
      ]
     },
     "metadata": {
      "needs_background": "light"
     },
     "output_type": "display_data"
    }
   ],
   "source": [
    "for i_model, v_model in enumerate(['Full', 'Reduced']):\n",
    "    print( v_model )\n",
    "    \n",
    "    plt.figure()\n",
    "    ax = plt.gca()\n",
    "    utils.set_size([1.4,2.5])\n",
    "\n",
    "    v_Ecw  = dcb_res[i_model,:,0,1]\n",
    "    v_Eccw = dcb_res[i_model,:,0,0]\n",
    "    v_Lcw  = dcb_res[i_model,:,1,1]\n",
    "    v_Lccw = dcb_res[i_model,:,1,0]\n",
    "\n",
    "    v_Lcw[np.abs(v_Ecw-v_Lcw)<1e-4]    = v_Ecw[np.abs(v_Ecw-v_Lcw)<1e-4]\n",
    "    v_Lccw[np.abs(v_Eccw-v_Lccw)<1e-4] = v_Eccw[np.abs(v_Eccw-v_Lccw)<1e-4]\n",
    "\n",
    "    ms_cw  = [np.median(v_Ecw), np.median(v_Lcw)]\n",
    "    ss_cw  = [np.std(v_Ecw)/np.sqrt(50), np.std(v_Lcw)/np.sqrt(50)]\n",
    "    ms_ccw = [np.median(v_Eccw), np.median(v_Lccw)]\n",
    "    ss_ccw = [np.std(v_Eccw)/np.sqrt(50), np.std(v_Lccw)/np.sqrt(50)]\n",
    "\n",
    "    plt.axhline(y=0,  linestyle='dotted', color='gray', linewidth=1.)\n",
    "\n",
    "    plt.errorbar(x=[-1], y=ms_cw[0], yerr=ss_cw[0], fmt=\"none\", color=\"darkblue\")\n",
    "    plt.errorbar(x=[1.5], y=ms_cw[-1], yerr=ss_cw[-1], fmt=\"none\", color=\"blue\")\n",
    "    plt.scatter(x=[-1,1.5], y=ms_cw, color=[\"darkblue\", \"blue\"])\n",
    "    for i in range(50):\n",
    "        plt.plot([-1,1.5], [v_Ecw[i],v_Lcw[i]], color='blue', alpha=0.08)\n",
    "\n",
    "    plt.scatter(x=[-1,1.5], y=ms_ccw, color=[\"darkred\", \"red\"])\n",
    "    plt.errorbar(x=[-1], y=ms_ccw[0], yerr=ss_ccw[0], fmt=\"none\", color=\"darkred\")\n",
    "    plt.errorbar(x=[1.5], y=ms_ccw[-1], yerr=ss_ccw[-1], fmt=\"none\", color=\"red\")\n",
    "    for i in range(50):\n",
    "        plt.plot([-1,1.5], [v_Eccw[i],v_Lccw[i]], color='red', alpha=0.08)  \n",
    "\n",
    "    plt.plot([-1,1.5], [ms_cw[0], ms_cw[-1]],   color='blue', zorder=0)\n",
    "    plt.plot([-1,1.5], [ms_ccw[0], ms_ccw[-1]], color='red', zorder=0)\n",
    "    plt.xlim([-2,2.5])\n",
    "    plt.ylim([-15,15])\n",
    "\n",
    "    ttest  = DescrStatsW((v_Lccw-v_Lcw)-(v_Eccw-v_Ecw))\n",
    "    wilcox = wilcoxon((v_Lccw-v_Lcw)-(v_Eccw-v_Ecw))\n",
    "    print(\"Decision-consistent bias: Early vs. Late\")\n",
    "    print('\\nPaired samples t-test')\n",
    "    print('t(49)=',  ttest.ttest_mean()[0], 'p=', ttest.ttest_mean()[1])\n",
    "    print('95% CI=', ttest.tconfint_mean())\n",
    "    print('\\nWilcoxon signed-rank test (without continuity correction)')\n",
    "    print('V=', wilcox[0], 'p=', wilcox[1])\n",
    "\n",
    "    if utils.LABEL:\n",
    "        plt.ylabel(r\"Estimation error $(\\!\\!^\\circ\\!\\!)$\")    \n",
    "        plt.xticks([-1,1.5], ['Early', 'Late'])\n",
    "    else:\n",
    "        plt.xticks([-1,1.5], ['', ''])\n",
    "    utils.draw_publish_axis(ax, xrange=(-1,1.5), yrange=(-10,10), xticks=None, yticks=[-10,0,10])\n",
    "    fign = ['f','j'][i_model]\n",
    "    plt.savefig(f'{utils.DIR_FIGURE}/fig4{fign}.pdf', bbox_inches='tight')\n",
    "    plt.show()"
   ]
  },
  {
   "cell_type": "code",
   "execution_count": 10,
   "metadata": {},
   "outputs": [],
   "source": [
    "%%capture\n",
    "dcb_list = np.nan*np.empty([2,2,5,2,50])\n",
    "for i_model in range(2):\n",
    "    for s_r in range(5):\n",
    "        dcb_list[i_model,:,s_r] = dcb_ref_ref[i_model,:,:,4-s_r].transpose((1,2,0))\n",
    "        \n",
    "dcb_list[:,:,0,0] = np.nan\n",
    "dcb_list[:,:,4,1] = np.nan\n",
    "m_dcb_list = np.nanmedian(dcb_list,axis=-1)\n",
    "s_dcb_list = np.nanstd(dcb_list,axis=-1)/np.sqrt(50) * 1.96"
   ]
  },
  {
   "cell_type": "code",
   "execution_count": 11,
   "metadata": {},
   "outputs": [
    {
     "name": "stdout",
     "output_type": "stream",
     "text": [
      "Full\n"
     ]
    },
    {
     "data": {
      "image/png": "[encoded data removed]",
      "text/plain": [
       "<Figure size 371.613x286.093 with 1 Axes>"
      ]
     },
     "metadata": {
      "needs_background": "light"
     },
     "output_type": "display_data"
    },
    {
     "name": "stdout",
     "output_type": "stream",
     "text": [
      "Reduced\n"
     ]
    },
    {
     "data": {
      "image/png": "[encoded data removed]",
      "text/plain": [
       "<Figure size 371.613x286.093 with 1 Axes>"
      ]
     },
     "metadata": {
      "needs_background": "light"
     },
     "output_type": "display_data"
    }
   ],
   "source": [
    "for i_model, v_model in enumerate(['Full', 'Reduced']):\n",
    "    print( v_model )\n",
    "    \n",
    "    plt.figure()\n",
    "    ax = plt.gca()\n",
    "    utils.set_size([4,3])\n",
    "\n",
    "    devi = 0.1\n",
    "    plt.axhline(y=0,  linestyle='dotted', color='gray', linewidth=1.)\n",
    "\n",
    "    # Early\n",
    "    plt.scatter(np.array([-2,-1,0,1,2])-devi, (m_dcb_list)[i_model,0,:,1], color='darkblue')\n",
    "    plt.vlines( np.array([-2,-1,0,1,2])-devi, (m_dcb_list-s_dcb_list)[i_model,0,:,1], \n",
    "                                              (m_dcb_list+s_dcb_list)[i_model,0,:,1], color='darkblue')\n",
    "    for i_r, v_r in enumerate([-2,-1,0,1,2]):    \n",
    "        plt.scatter( np.array([v_r]*50)-devi+ np.random.uniform(-devi/2,devi/2,size=50), \n",
    "                     dcb_list[i_model,0,i_r,1,:], color='darkblue', alpha=0.09, linewidth=0, s=10, zorder=0)\n",
    "\n",
    "    plt.scatter(np.array([-2,-1,0,1,2])-devi, (m_dcb_list)[i_model,0,:,0], color='darkred')\n",
    "    plt.vlines( np.array([-2,-1,0,1,2])-devi, (m_dcb_list-s_dcb_list)[i_model,0,:,0], \n",
    "                                              (m_dcb_list+s_dcb_list)[i_model,0,:,0], color='darkred')\n",
    "    for i_r, v_r in enumerate([-2,-1,0,1,2]):    \n",
    "        plt.scatter( np.array([v_r]*50)-devi+ np.random.uniform(-devi/2,devi/2,size=50), \n",
    "                     dcb_list[i_model,0,i_r,0,:], color='darkred', alpha=0.09, linewidth=0, s=10, zorder=0)\n",
    "\n",
    "    # Late\n",
    "    plt.scatter(np.array([-2,-1,0,1,2])+devi, (m_dcb_list)[i_model,1,:,1], color='blue')\n",
    "    plt.vlines( np.array([-2,-1,0,1,2])+devi, (m_dcb_list-s_dcb_list)[i_model,1,:,1], \n",
    "                                              (m_dcb_list+s_dcb_list)[i_model,1,:,1], color='blue')\n",
    "    for i_r, v_r in enumerate([-2,-1,0,1,2]):    \n",
    "        plt.scatter( np.array([v_r]*50)+devi+ np.random.uniform(-devi/2,devi/2,size=50), \n",
    "                     dcb_list[i_model,1,i_r,1,:], color='blue', alpha=0.09, linewidth=0, s=10, zorder=0)\n",
    "\n",
    "    plt.scatter(np.array([-2,-1,0,1,2])+devi, (m_dcb_list)[i_model,1,:,0], color='red')\n",
    "    plt.vlines( np.array([-2,-1,0,1,2])+devi, (m_dcb_list-s_dcb_list)[i_model,1,:,0], \n",
    "                                              (m_dcb_list+s_dcb_list)[i_model,1,:,0], color='red')\n",
    "    for i_r, v_r in enumerate([-2,-1,0,1,2]):    \n",
    "        plt.scatter( np.array([v_r]*50)+devi+ np.random.uniform(-devi/2,devi/2,size=50), \n",
    "                     dcb_list[i_model,1,i_r,0,:], color='red', alpha=0.09, linewidth=0, s=10, zorder=0)\n",
    "\n",
    "    plt.ylim([-19,19])\n",
    "    plt.xticks([-2,-1,0,1,2],[-21,-4,0,4,21])\n",
    "    utils.draw_publish_axis(ax, xrange=(-2,2), yrange=(-15,15), xticks=None, yticks=[-15,0,15])\n",
    "    fign = ['e','i'][i_model]\n",
    "    plt.savefig(f'{utils.DIR_FIGURE}/fig4{fign}.pdf', bbox_inches='tight')\n",
    "    plt.show()"
   ]
  }
 ],
 "metadata": {
  "kernelspec": {
   "display_name": "Python 3",
   "language": "python",
   "name": "python3"
  },
  "language_info": {
   "codemirror_mode": {
    "name": "ipython",
    "version": 3
   },
   "file_extension": ".py",
   "mimetype": "text/x-python",
   "name": "python",
   "nbconvert_exporter": "python",
   "pygments_lexer": "ipython3",
   "version": "3.7.7"
  }
 },
 "nbformat": 4,
 "nbformat_minor": 4
}
