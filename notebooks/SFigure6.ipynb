{
 "cells": [
  {
   "attachments": {},
   "cell_type": "markdown",
   "metadata": {},
   "source": [
    "# Correspondence between DDM and BOLD dynamics"
   ]
  },
  {
   "cell_type": "code",
   "execution_count": 1,
   "metadata": {},
   "outputs": [],
   "source": [
    "import sys\n",
    "import pickle\n",
    "import numpy as np\n",
    "import matplotlib.pyplot as plt\n",
    "from scipy.stats import wilcoxon\n",
    "from statsmodels.stats.weightstats import DescrStatsW\n",
    "\n",
    "sys.path.append('..')\n",
    "from src import utils\n",
    "utils.setup_matplotlib()"
   ]
  },
  {
   "cell_type": "code",
   "execution_count": 2,
   "metadata": {},
   "outputs": [
    {
     "name": "stdout",
     "output_type": "stream",
     "text": [
      "downloading data/outputs/fmri...\n",
      "data/outputs/fmri already exists. Skipping download...\n"
     ]
    }
   ],
   "source": [
    "utils.download_dataset(\"data/outputs/fmri\")\n",
    "\n",
    "with open(f\"{utils.ORIGIN}/data/outputs/fmri/results_correspondence_score.pickle\", 'rb') as f:\n",
    "    scores = pickle.load(f)\n",
    "with open(f\"{utils.ORIGIN}/data/outputs/fmri/permutation_correspondence_score.pickle\", 'rb') as f:\n",
    "    scores_perm = pickle.load(f)"
   ]
  },
  {
   "cell_type": "code",
   "execution_count": 3,
   "metadata": {},
   "outputs": [
    {
     "data": {
      "image/png": "[encoded data removed]",
      "text/plain": [
       "<Figure size 241.548x381.457 with 1 Axes>"
      ]
     },
     "metadata": {
      "needs_background": "light"
     },
     "output_type": "display_data"
    }
   ],
   "source": [
    "mm = np.mean(scores['full'])\n",
    "ss = np.std(scores['full'])/np.sqrt(50)\n",
    "scores_perm_m = np.mean(np.mean(scores_perm[0],axis=0))\n",
    "scores_perm_s = np.std(np.mean(scores_perm[0],axis=0))\n",
    "\n",
    "plt.figure()\n",
    "utils.set_size([2.6,4])\n",
    "ax = plt.gca()\n",
    "\n",
    "plt.vlines(x=0, ymin=mm-ss, ymax=mm+ss, color='k')\n",
    "plt.scatter([0], [mm], color='k')\n",
    "plt.axhspan(scores_perm_m-scores_perm_s,\n",
    "            scores_perm_m+scores_perm_s, color='gray', alpha=0.5, linewidth=0)\n",
    "\n",
    "plt.xlim([-1,1])\n",
    "plt.ylim([-0.05,0.55])\n",
    "\n",
    "utils.draw_publish_axis(ax, xrange=(-1,1), yrange=(-0.1,0.5), xticks=[], yticks=[0,0.1,0.2,0.3,0.4,0.5])\n",
    "plt.savefig(f'{utils.DIR_FIGURE}/sfig6a_left.pdf',bbox_inches='tight')\n",
    "plt.show()"
   ]
  },
  {
   "cell_type": "code",
   "execution_count": 4,
   "metadata": {},
   "outputs": [
    {
     "data": {
      "image/png": "[encoded data removed]",
      "text/plain": [
       "<Figure size 241.548x381.457 with 1 Axes>"
      ]
     },
     "metadata": {
      "needs_background": "light"
     },
     "output_type": "display_data"
    }
   ],
   "source": [
    "mm = np.mean(scores['reduced'])\n",
    "ss = np.std(scores['reduced'])/np.sqrt(50)\n",
    "scores_perm_m = np.mean(np.mean(scores_perm[1],axis=0))\n",
    "scores_perm_s = np.std(np.mean(scores_perm[1],axis=0))\n",
    "\n",
    "\n",
    "plt.figure()\n",
    "utils.set_size([2.6,4])\n",
    "ax = plt.gca()\n",
    "plt.vlines(x=0, ymin=mm-ss, ymax=mm+ss, color='k')\n",
    "plt.scatter([0], [mm], color='k')\n",
    "plt.axhspan(scores_perm_m-scores_perm_s,\n",
    "            scores_perm_m+scores_perm_s, color='gray', alpha=0.5, linewidth=0)\n",
    "\n",
    "plt.xlim([-1,1])\n",
    "plt.ylim([-0.05,0.55])\n",
    "\n",
    "utils.draw_publish_axis(ax, xrange=(-1,1), yrange=(-0.1,0.5), xticks=[], yticks=[0,0.1,0.2,0.3,0.4,0.5])\n",
    "plt.savefig(f'{utils.DIR_FIGURE}/sfig6a_right.pdf',bbox_inches='tight')\n",
    "plt.show()"
   ]
  },
  {
   "cell_type": "code",
   "execution_count": 5,
   "metadata": {},
   "outputs": [
    {
     "data": {
      "image/png": "[encoded data removed]",
      "text/plain": [
       "<Figure size 185.806x381.457 with 1 Axes>"
      ]
     },
     "metadata": {
      "needs_background": "light"
     },
     "output_type": "display_data"
    }
   ],
   "source": [
    "difference = scores['full'] - scores['reduced']\n",
    "argsort = np.argsort(difference)\n",
    "\n",
    "plt.figure()\n",
    "utils.set_size([2,4])\n",
    "ax = plt.gca()\n",
    "\n",
    "plt.barh(np.arange(1,51), (difference)[argsort], align='center', color='k', height=0.55)\n",
    "plt.xlim([-0.012,0.012])\n",
    "\n",
    "utils.draw_publish_axis(ax, xrange=(-0.01,0.01), yrange=(0,50), xticks=[-0.01,0.01], yticks=[0,10,20,30,40,50])\n",
    "plt.savefig(f'{utils.DIR_FIGURE}/sfig6b.pdf',bbox_inches='tight')\n",
    "plt.show()"
   ]
  },
  {
   "cell_type": "code",
   "execution_count": 6,
   "metadata": {},
   "outputs": [
    {
     "name": "stdout",
     "output_type": "stream",
     "text": [
      "Paired samples t-test\n",
      "t(49)= 2.8456229134522686 p= 0.006453798928520243\n",
      "95% CI= (0.00026921911437185195, 0.0015634421078829577)\n",
      "Wilcoxon signed-rank test (without continuity correction)\n",
      "V= 304.0 p= 0.0012847329834403912\n"
     ]
    }
   ],
   "source": [
    "ttest  = DescrStatsW(difference)\n",
    "wilcox = wilcoxon(difference)\n",
    "print('Paired samples t-test')\n",
    "print('t(49)=',  ttest.ttest_mean()[0], 'p=', ttest.ttest_mean()[1])\n",
    "print('95% CI=', ttest.tconfint_mean())\n",
    "print('Wilcoxon signed-rank test (without continuity correction)')\n",
    "print('V=', wilcox[0], 'p=', wilcox[1])"
   ]
  }
 ],
 "metadata": {
  "kernelspec": {
   "display_name": "Python 3",
   "language": "python",
   "name": "python3"
  },
  "language_info": {
   "codemirror_mode": {
    "name": "ipython",
    "version": 3
   },
   "file_extension": ".py",
   "mimetype": "text/x-python",
   "name": "python",
   "nbconvert_exporter": "python",
   "pygments_lexer": "ipython3",
   "version": "3.7.7"
  }
 },
 "nbformat": 4,
 "nbformat_minor": 4
}
